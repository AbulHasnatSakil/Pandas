{
 "cells": [
  {
   "cell_type": "markdown",
   "metadata": {},
   "source": [
    "# Practice_Part_08: Time Series Analysis"
   ]
  },
  {
   "cell_type": "code",
   "execution_count": 1,
   "metadata": {},
   "outputs": [],
   "source": [
    "import pandas as pd, numpy as np\n",
    "from datetime import datetime"
   ]
  },
  {
   "cell_type": "markdown",
   "metadata": {},
   "source": [
    "#### Exercise_01 \n",
    "For the global_superstor_2016 data prsent in 'data/global_superstore':\n",
    "1. Import the datetime module from datetime and convert the columns 'Order Date' and 'Ship Date' to the DatetimeIndex objects\n",
    "2. Check the DatetimeIndex objects converted for the null values\n",
    "3. Convert the DatetimeIndex objects to a Series objects with the names 'Order_Date' and 'Ship_Date'\n",
    "4. Join the datetime Series objects created just above with the global_superstore_2016 columns ['Row ID', 'Order ID', 'Ship Mode', 'Customer ID', 'Customer Name', 'Segment', 'Category']"
   ]
  },
  {
   "cell_type": "code",
   "execution_count": 6,
   "metadata": {},
   "outputs": [
    {
     "data": {
      "text/plain": "       Row ID                  Order ID  Order Date   Ship Date  \\\n0       40098  CA-2014-AB10015140-41954  11-11-2014  11/13/2014   \n1       26341    IN-2014-JR162107-41675  02-05-2014  02-07-2014   \n2       25330    IN-2014-CR127307-41929  10/17/2014  10/18/2014   \n3       13524   ES-2014-KM1637548-41667   1/28/2014   1/30/2014   \n4       47221   SG-2014-RH9495111-41948  11-05-2014  11-06-2014   \n...       ...                       ...         ...         ...   \n51285   29002   IN-2015-KE1642066-42174   6/19/2015   6/19/2015   \n51286   34337  US-2014-ZD21925140-41765  05-06-2014  05-10-2014   \n51287   31315  CA-2012-ZD21925140-41147   8/26/2012   8/31/2012   \n51288    9596   MX-2013-RB1979518-41322   2/17/2013   2/21/2013   \n51289    6147   MX-2013-MC1810093-41416   5/22/2013   5/26/2013   \n\n            Ship Mode   Customer ID       Customer Name      Segment  \\\n0         First Class  AB-100151402       Aaron Bergman     Consumer   \n1        Second Class     JR-162107       Justin Ritter    Corporate   \n2         First Class     CR-127307        Craig Reiter     Consumer   \n3         First Class    KM-1637548    Katherine Murray  Home Office   \n4            Same Day    RH-9495111         Rick Hansen     Consumer   \n...               ...           ...                 ...          ...   \n51285        Same Day    KE-1642066     Katrina Edelman    Corporate   \n51286  Standard Class  ZD-219251408  Zuschuss Donatelli     Consumer   \n51287    Second Class  ZD-219251404  Zuschuss Donatelli     Consumer   \n51288  Standard Class    RB-1979518          Ross Baird  Home Office   \n51289    Second Class    MC-1810093       Mick Crebagga     Consumer   \n\n       Postal Code           City  ...   Product ID         Category  \\\n0          73120.0  Oklahoma City  ...  TEC-PH-5816       Technology   \n1              NaN     Wollongong  ...  FUR-CH-5379        Furniture   \n2              NaN       Brisbane  ...  TEC-PH-5356       Technology   \n3              NaN         Berlin  ...  TEC-PH-5267       Technology   \n4              NaN          Dakar  ...  TEC-CO-6011       Technology   \n...            ...            ...  ...          ...              ...   \n51285          NaN           Kure  ...  OFF-FA-3072  Office Supplies   \n51286      37421.0    Chattanooga  ...  FUR-FU-4070        Furniture   \n51287      94109.0  San Francisco  ...  OFF-AR-5321  Office Supplies   \n51288          NaN       Valinhos  ...  OFF-BI-2919  Office Supplies   \n51289          NaN       Tipitapa  ...  OFF-PA-3990  Office Supplies   \n\n      Sub-Category                                   Product Name       Sales  \\\n0           Phones                               Samsung Convoy 3    $221.98    \n1           Chairs      Novimex Executive Leather Armchair, Black  $3,709.40    \n2           Phones              Nokia Smart Phone, with Caller ID  $5,175.17    \n3           Phones                 Motorola Smart Phone, Cordless  $2,892.51    \n4          Copiers                 Sharp Wireless Fax, High-Speed  $2,832.96    \n...            ...                                            ...         ...   \n51285    Fasteners                  Advantus Thumb Tacks, 12 Pack     $65.10    \n51286  Furnishings  Eldon Image Series Desk Accessories, Burgundy     $16.72    \n51287          Art                                     Newell 341      $8.56    \n51288      Binders                        Acco Index Tab, Economy     $13.44    \n51289        Paper        Eaton Computer Printout Paper, 8.5 x 11     $61.38    \n\n      Quantity Discount     Profit Shipping Cost  Order Priority  \n0            2      0.0    $62.15         40.770            High  \n1            9      0.1  ($288.77)       923.630        Critical  \n2            9      0.1   $919.97        915.490          Medium  \n3            5      0.1   ($96.54)       910.160          Medium  \n4            8      0.0   $311.52        903.040        Critical  \n...        ...      ...        ...           ...             ...  \n51285        5      0.0     $4.50          1.010          Medium  \n51286        5      0.2     $3.34          1.930            High  \n51287        2      0.0     $2.48          1.580            High  \n51288        2      0.0     $2.40          1.003          Medium  \n51289        3      0.0     $1.80          1.002            High  \n\n[51290 rows x 24 columns]",
      "text/html": "<div>\n<style scoped>\n    .dataframe tbody tr th:only-of-type {\n        vertical-align: middle;\n    }\n\n    .dataframe tbody tr th {\n        vertical-align: top;\n    }\n\n    .dataframe thead th {\n        text-align: right;\n    }\n</style>\n<table border=\"1\" class=\"dataframe\">\n  <thead>\n    <tr style=\"text-align: right;\">\n      <th></th>\n      <th>Row ID</th>\n      <th>Order ID</th>\n      <th>Order Date</th>\n      <th>Ship Date</th>\n      <th>Ship Mode</th>\n      <th>Customer ID</th>\n      <th>Customer Name</th>\n      <th>Segment</th>\n      <th>Postal Code</th>\n      <th>City</th>\n      <th>...</th>\n      <th>Product ID</th>\n      <th>Category</th>\n      <th>Sub-Category</th>\n      <th>Product Name</th>\n      <th>Sales</th>\n      <th>Quantity</th>\n      <th>Discount</th>\n      <th>Profit</th>\n      <th>Shipping Cost</th>\n      <th>Order Priority</th>\n    </tr>\n  </thead>\n  <tbody>\n    <tr>\n      <th>0</th>\n      <td>40098</td>\n      <td>CA-2014-AB10015140-41954</td>\n      <td>11-11-2014</td>\n      <td>11/13/2014</td>\n      <td>First Class</td>\n      <td>AB-100151402</td>\n      <td>Aaron Bergman</td>\n      <td>Consumer</td>\n      <td>73120.0</td>\n      <td>Oklahoma City</td>\n      <td>...</td>\n      <td>TEC-PH-5816</td>\n      <td>Technology</td>\n      <td>Phones</td>\n      <td>Samsung Convoy 3</td>\n      <td>$221.98</td>\n      <td>2</td>\n      <td>0.0</td>\n      <td>$62.15</td>\n      <td>40.770</td>\n      <td>High</td>\n    </tr>\n    <tr>\n      <th>1</th>\n      <td>26341</td>\n      <td>IN-2014-JR162107-41675</td>\n      <td>02-05-2014</td>\n      <td>02-07-2014</td>\n      <td>Second Class</td>\n      <td>JR-162107</td>\n      <td>Justin Ritter</td>\n      <td>Corporate</td>\n      <td>NaN</td>\n      <td>Wollongong</td>\n      <td>...</td>\n      <td>FUR-CH-5379</td>\n      <td>Furniture</td>\n      <td>Chairs</td>\n      <td>Novimex Executive Leather Armchair, Black</td>\n      <td>$3,709.40</td>\n      <td>9</td>\n      <td>0.1</td>\n      <td>($288.77)</td>\n      <td>923.630</td>\n      <td>Critical</td>\n    </tr>\n    <tr>\n      <th>2</th>\n      <td>25330</td>\n      <td>IN-2014-CR127307-41929</td>\n      <td>10/17/2014</td>\n      <td>10/18/2014</td>\n      <td>First Class</td>\n      <td>CR-127307</td>\n      <td>Craig Reiter</td>\n      <td>Consumer</td>\n      <td>NaN</td>\n      <td>Brisbane</td>\n      <td>...</td>\n      <td>TEC-PH-5356</td>\n      <td>Technology</td>\n      <td>Phones</td>\n      <td>Nokia Smart Phone, with Caller ID</td>\n      <td>$5,175.17</td>\n      <td>9</td>\n      <td>0.1</td>\n      <td>$919.97</td>\n      <td>915.490</td>\n      <td>Medium</td>\n    </tr>\n    <tr>\n      <th>3</th>\n      <td>13524</td>\n      <td>ES-2014-KM1637548-41667</td>\n      <td>1/28/2014</td>\n      <td>1/30/2014</td>\n      <td>First Class</td>\n      <td>KM-1637548</td>\n      <td>Katherine Murray</td>\n      <td>Home Office</td>\n      <td>NaN</td>\n      <td>Berlin</td>\n      <td>...</td>\n      <td>TEC-PH-5267</td>\n      <td>Technology</td>\n      <td>Phones</td>\n      <td>Motorola Smart Phone, Cordless</td>\n      <td>$2,892.51</td>\n      <td>5</td>\n      <td>0.1</td>\n      <td>($96.54)</td>\n      <td>910.160</td>\n      <td>Medium</td>\n    </tr>\n    <tr>\n      <th>4</th>\n      <td>47221</td>\n      <td>SG-2014-RH9495111-41948</td>\n      <td>11-05-2014</td>\n      <td>11-06-2014</td>\n      <td>Same Day</td>\n      <td>RH-9495111</td>\n      <td>Rick Hansen</td>\n      <td>Consumer</td>\n      <td>NaN</td>\n      <td>Dakar</td>\n      <td>...</td>\n      <td>TEC-CO-6011</td>\n      <td>Technology</td>\n      <td>Copiers</td>\n      <td>Sharp Wireless Fax, High-Speed</td>\n      <td>$2,832.96</td>\n      <td>8</td>\n      <td>0.0</td>\n      <td>$311.52</td>\n      <td>903.040</td>\n      <td>Critical</td>\n    </tr>\n    <tr>\n      <th>...</th>\n      <td>...</td>\n      <td>...</td>\n      <td>...</td>\n      <td>...</td>\n      <td>...</td>\n      <td>...</td>\n      <td>...</td>\n      <td>...</td>\n      <td>...</td>\n      <td>...</td>\n      <td>...</td>\n      <td>...</td>\n      <td>...</td>\n      <td>...</td>\n      <td>...</td>\n      <td>...</td>\n      <td>...</td>\n      <td>...</td>\n      <td>...</td>\n      <td>...</td>\n      <td>...</td>\n    </tr>\n    <tr>\n      <th>51285</th>\n      <td>29002</td>\n      <td>IN-2015-KE1642066-42174</td>\n      <td>6/19/2015</td>\n      <td>6/19/2015</td>\n      <td>Same Day</td>\n      <td>KE-1642066</td>\n      <td>Katrina Edelman</td>\n      <td>Corporate</td>\n      <td>NaN</td>\n      <td>Kure</td>\n      <td>...</td>\n      <td>OFF-FA-3072</td>\n      <td>Office Supplies</td>\n      <td>Fasteners</td>\n      <td>Advantus Thumb Tacks, 12 Pack</td>\n      <td>$65.10</td>\n      <td>5</td>\n      <td>0.0</td>\n      <td>$4.50</td>\n      <td>1.010</td>\n      <td>Medium</td>\n    </tr>\n    <tr>\n      <th>51286</th>\n      <td>34337</td>\n      <td>US-2014-ZD21925140-41765</td>\n      <td>05-06-2014</td>\n      <td>05-10-2014</td>\n      <td>Standard Class</td>\n      <td>ZD-219251408</td>\n      <td>Zuschuss Donatelli</td>\n      <td>Consumer</td>\n      <td>37421.0</td>\n      <td>Chattanooga</td>\n      <td>...</td>\n      <td>FUR-FU-4070</td>\n      <td>Furniture</td>\n      <td>Furnishings</td>\n      <td>Eldon Image Series Desk Accessories, Burgundy</td>\n      <td>$16.72</td>\n      <td>5</td>\n      <td>0.2</td>\n      <td>$3.34</td>\n      <td>1.930</td>\n      <td>High</td>\n    </tr>\n    <tr>\n      <th>51287</th>\n      <td>31315</td>\n      <td>CA-2012-ZD21925140-41147</td>\n      <td>8/26/2012</td>\n      <td>8/31/2012</td>\n      <td>Second Class</td>\n      <td>ZD-219251404</td>\n      <td>Zuschuss Donatelli</td>\n      <td>Consumer</td>\n      <td>94109.0</td>\n      <td>San Francisco</td>\n      <td>...</td>\n      <td>OFF-AR-5321</td>\n      <td>Office Supplies</td>\n      <td>Art</td>\n      <td>Newell 341</td>\n      <td>$8.56</td>\n      <td>2</td>\n      <td>0.0</td>\n      <td>$2.48</td>\n      <td>1.580</td>\n      <td>High</td>\n    </tr>\n    <tr>\n      <th>51288</th>\n      <td>9596</td>\n      <td>MX-2013-RB1979518-41322</td>\n      <td>2/17/2013</td>\n      <td>2/21/2013</td>\n      <td>Standard Class</td>\n      <td>RB-1979518</td>\n      <td>Ross Baird</td>\n      <td>Home Office</td>\n      <td>NaN</td>\n      <td>Valinhos</td>\n      <td>...</td>\n      <td>OFF-BI-2919</td>\n      <td>Office Supplies</td>\n      <td>Binders</td>\n      <td>Acco Index Tab, Economy</td>\n      <td>$13.44</td>\n      <td>2</td>\n      <td>0.0</td>\n      <td>$2.40</td>\n      <td>1.003</td>\n      <td>Medium</td>\n    </tr>\n    <tr>\n      <th>51289</th>\n      <td>6147</td>\n      <td>MX-2013-MC1810093-41416</td>\n      <td>5/22/2013</td>\n      <td>5/26/2013</td>\n      <td>Second Class</td>\n      <td>MC-1810093</td>\n      <td>Mick Crebagga</td>\n      <td>Consumer</td>\n      <td>NaN</td>\n      <td>Tipitapa</td>\n      <td>...</td>\n      <td>OFF-PA-3990</td>\n      <td>Office Supplies</td>\n      <td>Paper</td>\n      <td>Eaton Computer Printout Paper, 8.5 x 11</td>\n      <td>$61.38</td>\n      <td>3</td>\n      <td>0.0</td>\n      <td>$1.80</td>\n      <td>1.002</td>\n      <td>High</td>\n    </tr>\n  </tbody>\n</table>\n<p>51290 rows × 24 columns</p>\n</div>"
     },
     "execution_count": 6,
     "metadata": {},
     "output_type": "execute_result"
    }
   ],
   "source": [
    "df = pd.read_csv('data/global_superstore/global_superstore_2016.csv',encoding='latin1')\n",
    "df"
   ]
  },
  {
   "cell_type": "code",
   "execution_count": 7,
   "outputs": [
    {
     "data": {
      "text/plain": "['11-11-2014',\n '02-05-2014',\n '10/17/2014',\n '1/28/2014',\n '11-05-2014',\n '6/28/2014',\n '11-06-2012',\n '4/14/2013',\n '11-11-2014',\n '03-06-2012',\n '03-06-2012',\n '4/19/2013',\n '12/26/2012',\n '11/13/2013',\n '06-06-2014',\n '7/31/2015',\n '2/19/2012',\n '09-08-2015',\n '1/31/2015',\n '12-05-2015']"
     },
     "execution_count": 7,
     "metadata": {},
     "output_type": "execute_result"
    }
   ],
   "source": [
    "order_date = df['Order Date'].tolist()\n",
    "order_date[:20]"
   ],
   "metadata": {
    "collapsed": false,
    "pycharm": {
     "name": "#%%\n"
    }
   }
  },
  {
   "cell_type": "code",
   "execution_count": 8,
   "outputs": [
    {
     "data": {
      "text/plain": "DatetimeIndex(['2014-11-11', '2014-02-05', '2014-10-17', '2014-01-28',\n               '2014-11-05', '2014-06-28', '2012-11-06', '2013-04-14',\n               '2014-11-11', '2012-03-06',\n               ...\n               '2014-07-09', '2015-06-09', '2015-08-05', '2015-05-30',\n               '2013-12-28', '2015-06-19', '2014-05-06', '2012-08-26',\n               '2013-02-17', '2013-05-22'],\n              dtype='datetime64[ns]', length=51290, freq=None)"
     },
     "execution_count": 8,
     "metadata": {},
     "output_type": "execute_result"
    }
   ],
   "source": [
    "order_datetime = pd.to_datetime(order_date)\n",
    "order_datetime"
   ],
   "metadata": {
    "collapsed": false,
    "pycharm": {
     "name": "#%%\n"
    }
   }
  },
  {
   "cell_type": "code",
   "execution_count": 9,
   "outputs": [
    {
     "data": {
      "text/plain": "['11/13/2014',\n '02-07-2014',\n '10/18/2014',\n '1/30/2014',\n '11-06-2014',\n '07-01-2014',\n '11-08-2012',\n '4/18/2013',\n '11/13/2014',\n '03-07-2012',\n '03-07-2012',\n '4/22/2013',\n '12/28/2012',\n '11/13/2013',\n '06-08-2014',\n '08-03-2015',\n '2/25/2012',\n '9/14/2015',\n '02-01-2015',\n '12-07-2015',\n '08-10-2013',\n '03-07-2012',\n '05-02-2012',\n '03-01-2014',\n '08-01-2015',\n '09-08-2015',\n '12/19/2012',\n '3/16/2012',\n '4/23/2012',\n '2/24/2013',\n '12/29/2012',\n '7/19/2013',\n '12/31/2013',\n '11-04-2012',\n '12/31/2013',\n '9/14/2012',\n '5/18/2012',\n '12/31/2012',\n '1/18/2015',\n '01-11-2012',\n '8/26/2014',\n '11/15/2015',\n '9/28/2015',\n '12/17/2013',\n '9/24/2012',\n '3/26/2014',\n '03-08-2014',\n '8/29/2015',\n '05-01-2015',\n '12/20/2015',\n '10/27/2012',\n '9/21/2015',\n '12/31/2012',\n '12/19/2012',\n '12/18/2014',\n '5/31/2013',\n '4/23/2012',\n '5/28/2013',\n '08-06-2015',\n '5/18/2012',\n '3/13/2015',\n '12/23/2015',\n '8/16/2015',\n '09-03-2014',\n '1/23/2015',\n '01-05-2015',\n '12-08-2015',\n '12/19/2015',\n '11/20/2015',\n '11-10-2012',\n '06-09-2014',\n '11/22/2012',\n '3/31/2014',\n '8/27/2015',\n '9/22/2013',\n '5/18/2015',\n '08-08-2015',\n '11/25/2014',\n '11-10-2012',\n '10/27/2012',\n '11/23/2015',\n '10/30/2015',\n '9/28/2014',\n '09-06-2015',\n '02-05-2014',\n '9/21/2013',\n '11/23/2014',\n '6/13/2013',\n '10/31/2014',\n '12/14/2014',\n '5/28/2013',\n '10-09-2015',\n '12-02-2014',\n '01-05-2015',\n '1/30/2014',\n '05-07-2013',\n '11/29/2014',\n '12-02-2013',\n '9/29/2013',\n '09-05-2014',\n '08-01-2014',\n '11/25/2015',\n '6/19/2013',\n '10/14/2013',\n '08-10-2012',\n '11-08-2012',\n '08-01-2012',\n '4/28/2014',\n '12/26/2014',\n '3/13/2014',\n '04-01-2014',\n '04-05-2013',\n '12/28/2013',\n '4/19/2014',\n '5/25/2012',\n '08-08-2015',\n '5/20/2014',\n '01-05-2015',\n '2/19/2012',\n '06-02-2014',\n '10-02-2014',\n '11/14/2015',\n '09-04-2014',\n '12/14/2014',\n '3/21/2015',\n '12/20/2015',\n '11/14/2015',\n '3/19/2014',\n '11/14/2015',\n '9/18/2015',\n '11/27/2014',\n '11-10-2014',\n '7/23/2015',\n '8/16/2013',\n '11-08-2015',\n '1/14/2013',\n '1/30/2014',\n '6/17/2013',\n '11-08-2015',\n '09-04-2014',\n '12-08-2013',\n '09-07-2014',\n '9/20/2015',\n '09-04-2014',\n '08-08-2013',\n '12-11-2015',\n '10/28/2013',\n '5/13/2015',\n '8/29/2014',\n '5/16/2012',\n '11-05-2012',\n '08-03-2015',\n '9/21/2012',\n '3/19/2014',\n '3/15/2014',\n '02-04-2013',\n '3/19/2014',\n '4/13/2015',\n '09-04-2014',\n '3/21/2015',\n '10-04-2014',\n '1/15/2014',\n '8/25/2015',\n '12/19/2012',\n '3/18/2015',\n '9/24/2013',\n '7/13/2015',\n '6/15/2014',\n '8/16/2012',\n '3/21/2015',\n '01-03-2014',\n '09-04-2014',\n '10-11-2013',\n '09-04-2014',\n '6/18/2012',\n '04-05-2015',\n '5/19/2012',\n '2/15/2015',\n '10-12-2014',\n '9/22/2015',\n '7/19/2015',\n '11/28/2015',\n '06-01-2012',\n '11-08-2015',\n '7/20/2015',\n '09-03-2015',\n '12/26/2013',\n '11/15/2015',\n '05-04-2014',\n '8/20/2012',\n '12-07-2015',\n '6/29/2014',\n '1/24/2014',\n '10/25/2015',\n '7/14/2015',\n '10/25/2015',\n '09-01-2015',\n '10/25/2015',\n '06-10-2012',\n '10-12-2012',\n '06-10-2014',\n '12/17/2015',\n '9/21/2014',\n '06-11-2015',\n '2/16/2012',\n '12-04-2014',\n '6/27/2014',\n '4/19/2015',\n '08-08-2012',\n '12/22/2014',\n '08-04-2013',\n '6/19/2013',\n '04-12-2015',\n '08-02-2014',\n '5/25/2015',\n '2/15/2012',\n '9/27/2014',\n '06-04-2015',\n '10-03-2014',\n '7/19/2012',\n '8/16/2015',\n '10/25/2015',\n '11-03-2015',\n '7/30/2014',\n '10-11-2015',\n '10/21/2015',\n '12-06-2014',\n '11-10-2015',\n '06-10-2014',\n '9/22/2012',\n '6/23/2012',\n '9/29/2015',\n '5/25/2015',\n '11/29/2015',\n '04-01-2013',\n '11/14/2012',\n '10/25/2015',\n '08-06-2013',\n '12/22/2014',\n '6/27/2014',\n '6/27/2014',\n '1/27/2014',\n '5/24/2012',\n '10-01-2015',\n '11-07-2012',\n '1/30/2015',\n '9/19/2015',\n '12-01-2015',\n '12/23/2012',\n '02-07-2014',\n '12/28/2012',\n '10/25/2015',\n '4/29/2012',\n '10-10-2012',\n '8/26/2014',\n '9/24/2014',\n '12/19/2015',\n '11/21/2012',\n '12/23/2013',\n '9/29/2015',\n '06-07-2015',\n '9/14/2015',\n '4/17/2015',\n '11/24/2013',\n '03-08-2015',\n '7/28/2013',\n '11-09-2015',\n '11/24/2015',\n '6/13/2012',\n '9/19/2013',\n '11/24/2012',\n '08-12-2013',\n '3/23/2014',\n '01-04-2015',\n '10-09-2013',\n '08-07-2013',\n '10-02-2013',\n '3/29/2015',\n '11/21/2015',\n '11/30/2012',\n '11-04-2012',\n '5/25/2015',\n '12-06-2013',\n '12-04-2014',\n '12/24/2013',\n '9/15/2013',\n '9/19/2015',\n '9/28/2012',\n '11/13/2013',\n '5/26/2013',\n '6/27/2014',\n '4/17/2015',\n '09-02-2015',\n '5/18/2015',\n '12/15/2013',\n '04-03-2012',\n '02-07-2013',\n '06-01-2014',\n '09-01-2013',\n '6/16/2012',\n '8/31/2015',\n '10/27/2012',\n '3/23/2015',\n '9/18/2015',\n '8/28/2013',\n '9/19/2015',\n '08-04-2014',\n '6/27/2014',\n '12/27/2015',\n '9/19/2015',\n '2/25/2013',\n '10/13/2015',\n '4/23/2015',\n '6/17/2014',\n '9/20/2014',\n '9/19/2015',\n '12-03-2015',\n '09-01-2015',\n '6/26/2015',\n '10/25/2015',\n '8/19/2012',\n '9/14/2015',\n '04-05-2015',\n '1/16/2015',\n '11/15/2015',\n '6/13/2014',\n '9/19/2015',\n '9/25/2015',\n '1/13/2012',\n '9/28/2012',\n '7/30/2014',\n '12-06-2015',\n '05-04-2015',\n '9/29/2012',\n '6/28/2015',\n '04-07-2012',\n '08-09-2015',\n '04-05-2015',\n '2/16/2015',\n '12/25/2012',\n '8/19/2013',\n '11/13/2013',\n '08-08-2013',\n '6/27/2014',\n '05-07-2014',\n '08-11-2013',\n '2/22/2014',\n '7/19/2013',\n '9/17/2014',\n '04-12-2015',\n '6/20/2013',\n '01-02-2015',\n '05-07-2014',\n '1/17/2013',\n '6/14/2013',\n '3/22/2015',\n '11/17/2013',\n '05-07-2014',\n '9/19/2015',\n '5/19/2015',\n '11/13/2013',\n '12/24/2015',\n '9/14/2014',\n '1/13/2014',\n '6/27/2015',\n '7/16/2013',\n '02-11-2015',\n '06-05-2015',\n '4/18/2015',\n '11/29/2015',\n '11-10-2012',\n '9/18/2015',\n '2/27/2015',\n '09-05-2014',\n '12/25/2014',\n '6/19/2015',\n '3/17/2015',\n '7/13/2015',\n '06-12-2015',\n '10/17/2015',\n '08-09-2015',\n '12/28/2013',\n '12-07-2013',\n '5/20/2014',\n '6/18/2014',\n '11-07-2015',\n '5/31/2013',\n '8/20/2014',\n '06-04-2012',\n '7/14/2012',\n '11/13/2013',\n '10/23/2012',\n '11/19/2012',\n '7/18/2015',\n '06-05-2015',\n '12/17/2015',\n '6/28/2015',\n '12/24/2015',\n '02-08-2013',\n '1/27/2012',\n '08-05-2013',\n '10/31/2015',\n '03-04-2013',\n '06-12-2013',\n '2/26/2012',\n '9/28/2012',\n '7/27/2014',\n '04-01-2014',\n '10/25/2015',\n '6/26/2015',\n '11-05-2014',\n '12/15/2013',\n '05-06-2014',\n '9/28/2012',\n '09-09-2012',\n '4/26/2013',\n '11-04-2014',\n '4/16/2012',\n '9/17/2014',\n '12/22/2014',\n '11-04-2015',\n '4/14/2014',\n '11-11-2014',\n '10/17/2013',\n '10/16/2013',\n '02-03-2015',\n '10/16/2013',\n '06-07-2015',\n '11/24/2015',\n '9/23/2014',\n '01-05-2014',\n '12/31/2015',\n '11/19/2014',\n '12/22/2012',\n '5/21/2015',\n '09-11-2015',\n '6/19/2014',\n '12-07-2012',\n '9/21/2015',\n '10-01-2014',\n '2/14/2015',\n '02-11-2015',\n '08-07-2014',\n '4/18/2015',\n '11-12-2013',\n '05-07-2015',\n '11-06-2014',\n '06-12-2015',\n '09-02-2013',\n '6/22/2014',\n '8/28/2015',\n '5/29/2013',\n '5/21/2015',\n '4/30/2014',\n '12/25/2014',\n '10/15/2015',\n '4/17/2015',\n '12-03-2015',\n '5/13/2013',\n '6/24/2014',\n '05-06-2013',\n '11/14/2012',\n '12/24/2015',\n '5/19/2015',\n '12-12-2015',\n '12-10-2012',\n '9/15/2014',\n '03-04-2012',\n '01-05-2013',\n '11-03-2013',\n '11/19/2014',\n '8/17/2014',\n '06-08-2014',\n '10-06-2015',\n '03-03-2015',\n '11-04-2014',\n '12/25/2014',\n '5/15/2015',\n '07-08-2015',\n '5/21/2013',\n '08-05-2012',\n '9/26/2015',\n '2/16/2014',\n '5/23/2013',\n '08-09-2015',\n '11/18/2014',\n '2/14/2015',\n '11/14/2015',\n '04-01-2014',\n '11-12-2013',\n '9/26/2015',\n '8/21/2014',\n '5/31/2015',\n '8/29/2013',\n '07-05-2015',\n '3/17/2013',\n '5/15/2015',\n '9/18/2015',\n '08-12-2015',\n '09-09-2014',\n '09-11-2015',\n '11-12-2013',\n '10/21/2013',\n '2/18/2015',\n '2/28/2013',\n '12-10-2013',\n '12/14/2013',\n '6/21/2015',\n '12/22/2013',\n '5/17/2015',\n '08-08-2015',\n '11-11-2015',\n '6/14/2014',\n '05-12-2013',\n '9/13/2014',\n '7/28/2014',\n '10/14/2015',\n '11/24/2012',\n '11-12-2013',\n '10/25/2015',\n '02-07-2014',\n '10/15/2014',\n '2/16/2012',\n '05-01-2015',\n '03-12-2012',\n '08-08-2013',\n '12/23/2013',\n '08-07-2013',\n '6/22/2013',\n '02-09-2014',\n '10-02-2012',\n '6/26/2013',\n '12/22/2014',\n '10/14/2013',\n '09-04-2012',\n '7/18/2015',\n '12-12-2012',\n '4/16/2015',\n '9/26/2015',\n '09-01-2012',\n '08-02-2014',\n '9/14/2015',\n '08-07-2015',\n '11/23/2015',\n '05-09-2013',\n '8/31/2013',\n '12/29/2014',\n '1/31/2014',\n '5/15/2015',\n '12/28/2012',\n '12-04-2013',\n '5/23/2014',\n '11-12-2013',\n '6/28/2015',\n '9/26/2015',\n '7/28/2014',\n '11/24/2015',\n '10/28/2012',\n '11-12-2013',\n '12/27/2013',\n '12/22/2012',\n '05-10-2013',\n '01-12-2012',\n '12/22/2014',\n '4/13/2015',\n '6/19/2012',\n '01-10-2013',\n '2/15/2015',\n '7/17/2012',\n '4/14/2013',\n '01-04-2015',\n '4/13/2015',\n '12/19/2015',\n '07-06-2015',\n '8/24/2015',\n '10-08-2015',\n '6/24/2014',\n '7/14/2015',\n '4/27/2015',\n '05-07-2012',\n '10-09-2012',\n '11/16/2015',\n '12/19/2015',\n '8/24/2015',\n '04-08-2014',\n '9/19/2015',\n '12/22/2014',\n '7/14/2015',\n '10-12-2015',\n '06-07-2014',\n '8/22/2013',\n '8/29/2012',\n '12-05-2013',\n '10/18/2015',\n '12/21/2014',\n '6/22/2013',\n '8/20/2014',\n '6/25/2013',\n '5/25/2013',\n '05-03-2014',\n '6/15/2013',\n '12/22/2014',\n '12/22/2014',\n '7/25/2015',\n '02-09-2014',\n '10/28/2012',\n '12/22/2014',\n '03-01-2014',\n '11/29/2012',\n '8/24/2013',\n '5/28/2013',\n '11-07-2012',\n '9/26/2012',\n '10/19/2014',\n '12/22/2014',\n '06-09-2014',\n '5/16/2014',\n '12/22/2014',\n '07-06-2015',\n '10/24/2014',\n '8/14/2015',\n '05-08-2014',\n '7/15/2014',\n '12/22/2014',\n '12-06-2015',\n '1/13/2015',\n '07-04-2014',\n '6/27/2015',\n '3/16/2012',\n '1/21/2014',\n '09-02-2013',\n '11/20/2012',\n '12/28/2015',\n '6/20/2013',\n '7/15/2014',\n '5/25/2013',\n '08-09-2015',\n '8/15/2015',\n '12/28/2013',\n '01-10-2014',\n '12/31/2015',\n '12/20/2014',\n '03-04-2014',\n '07-04-2013',\n '8/24/2013',\n '11-05-2015',\n '07-07-2013',\n '12-04-2015',\n '04-12-2012',\n '11/23/2015',\n '5/13/2013',\n '11/23/2013',\n '09-01-2015',\n '11-08-2014',\n '11/23/2015',\n '11/24/2014',\n '01-03-2016',\n '11/20/2014',\n '02-04-2013',\n '3/19/2014',\n '3/23/2013',\n '5/29/2015',\n '6/16/2014',\n '03-07-2012',\n '03-07-2012',\n '03-07-2012',\n '12-11-2014',\n '10/14/2014',\n '10/18/2014',\n '12/27/2012',\n '4/19/2014',\n '08-08-2012',\n '03-07-2012',\n '10/23/2012',\n '2/26/2012',\n '03-11-2012',\n '1/29/2015',\n '6/18/2015',\n '12/29/2012',\n '01-11-2014',\n '01-10-2014',\n '02-04-2015',\n '11-05-2012',\n '09-09-2015',\n '9/24/2014',\n '6/26/2012',\n '09-02-2013',\n '6/19/2014',\n '11/22/2015',\n '12/22/2013',\n '10-01-2014',\n '3/28/2015',\n '02-02-2014',\n '12-02-2012',\n '06-01-2015',\n '6/17/2015',\n '11/15/2012',\n '06-05-2014',\n '03-07-2012',\n '8/18/2012',\n '03-11-2013',\n '11/22/2015',\n '08-06-2015',\n '6/21/2015',\n '01-01-2016',\n '9/28/2013',\n '2/23/2014',\n '11/22/2015',\n '11/22/2015',\n '11/26/2015',\n '9/29/2015',\n '11-07-2015',\n '09-04-2015',\n '9/15/2013',\n '1/21/2014',\n '4/20/2015',\n '03-08-2014',\n '2/25/2012',\n '04-02-2013',\n '9/20/2015',\n '07-11-2014',\n '07-01-2013',\n '01-01-2015',\n '9/21/2015',\n '02-02-2015',\n '09-09-2012',\n '2/21/2015',\n '06-02-2013',\n '01-04-2014',\n '11/25/2013',\n '4/17/2015',\n '08-07-2013',\n '11/22/2015',\n '12/16/2012',\n '6/23/2015',\n '4/18/2015',\n '5/25/2014',\n '10-07-2015',\n '12/30/2012',\n '10-01-2015',\n '07-01-2013',\n '8/28/2015',\n '11/21/2015',\n '12-07-2013',\n '09-06-2015',\n '10-02-2015',\n '04-02-2015',\n '9/28/2013',\n '01-02-2016',\n '1/25/2015',\n '7/18/2014',\n '03-02-2012',\n '3/31/2015',\n '06-06-2014',\n '03-12-2014',\n '11/19/2012',\n '10/17/2015',\n '5/22/2012',\n '5/15/2013',\n '09-03-2015',\n '6/22/2015',\n '5/13/2015',\n '8/20/2014',\n '6/27/2014',\n '1/24/2012',\n '04-02-2013',\n '12-08-2015',\n '07-04-2014',\n '5/26/2013',\n '12/14/2015',\n '12/15/2013',\n '03-07-2015',\n '6/29/2014',\n '06-04-2015',\n '10-02-2012',\n '06-09-2014',\n '10/18/2014',\n '12-10-2015',\n '07-01-2013',\n '11/22/2015',\n '11/13/2013',\n '06-12-2012',\n '04-12-2015',\n '10/20/2012',\n '4/30/2013',\n '09-02-2013',\n '4/21/2013',\n '12/22/2014',\n '06-08-2014',\n '07-01-2013',\n '8/20/2013',\n '8/18/2015',\n '4/18/2015',\n '09-09-2014',\n '06-01-2015',\n '07-01-2014',\n '4/18/2015',\n '05-10-2015',\n '12-10-2015',\n '2/14/2015',\n '12-05-2015',\n '8/29/2013',\n '08-08-2015',\n '11/30/2014',\n '8/22/2012',\n '3/13/2015',\n '04-07-2014',\n '1/28/2015',\n '5/22/2015',\n '4/25/2014',\n '1/28/2015',\n '9/16/2013',\n '9/28/2015',\n '10-09-2013',\n '10/31/2015',\n '11/24/2012',\n '12/13/2015',\n '12-09-2012',\n '12/27/2012',\n '12/17/2014',\n '4/18/2015',\n '12/24/2015',\n '9/20/2014',\n '12-07-2015',\n '05-06-2015',\n '12/28/2013',\n '10/14/2014',\n '4/27/2013',\n '6/23/2015',\n '12-03-2013',\n '07-02-2015',\n '6/28/2015',\n '9/19/2013',\n '12-02-2014',\n '11/19/2015',\n '7/25/2015',\n '09-08-2015',\n '6/18/2013',\n '1/28/2015',\n '12-07-2015',\n '1/22/2015',\n '07-01-2015',\n '1/25/2013',\n '07-12-2013',\n '11/29/2012',\n '12-01-2015',\n '12-09-2013',\n '11/21/2012',\n '12/21/2013',\n '11/25/2014',\n '09-04-2015',\n '5/16/2015',\n '11-09-2014',\n '11-12-2012',\n '04-11-2014',\n '6/13/2015',\n '6/15/2014',\n '07-09-2015',\n '05-05-2014',\n '07-08-2013',\n '11-08-2013',\n '1/28/2015',\n '9/17/2012',\n '01-01-2015',\n '12/21/2014',\n '09-04-2015',\n '12/21/2014',\n '6/29/2014',\n '6/27/2012',\n '9/26/2015',\n '03-07-2013',\n '12/21/2014',\n '10-08-2014',\n '11/15/2013',\n '1/29/2013',\n '12/22/2013',\n '08-12-2012',\n '03-07-2013',\n '12/21/2015',\n '11/21/2012',\n '10/20/2014',\n '10/13/2015',\n '3/30/2015',\n '11-08-2015',\n '01-03-2014',\n '8/30/2015',\n '8/30/2015',\n '4/13/2015',\n '10-05-2015',\n '11/17/2013',\n '10/20/2015',\n '12-07-2015',\n '10/25/2013',\n '9/25/2012',\n '11/17/2012',\n '12-09-2013',\n '3/15/2013',\n '01-01-2016',\n '12/30/2012',\n '10/16/2015',\n '02-04-2015',\n '11/18/2014',\n '09-07-2015',\n '8/19/2013',\n '7/16/2015',\n '1/17/2013',\n '4/25/2013',\n '10/17/2014',\n '05-10-2013',\n '08-07-2012',\n '12/20/2012',\n '11/28/2015',\n '11/18/2012',\n '11-08-2013',\n '01-09-2013',\n '12-05-2012',\n '9/26/2012',\n '8/30/2013',\n '3/16/2015',\n '11/15/2013',\n '6/21/2015',\n '06-11-2013',\n '05-04-2014',\n '10-05-2014',\n '12/18/2012',\n '10/29/2013',\n '2/25/2014',\n '09-12-2015',\n '10/19/2014',\n '12-09-2013',\n '10/18/2014',\n '3/14/2015',\n '9/21/2015',\n '11-05-2012',\n '10-06-2015',\n '7/13/2015',\n '3/19/2013',\n '6/15/2014',\n '09-03-2014',\n '5/28/2014',\n '07-03-2012',\n '12/13/2012',\n '12-05-2012',\n '8/17/2014',\n '09-12-2013',\n '6/17/2014',\n '10/24/2014',\n '6/15/2014',\n '9/22/2013',\n '5/17/2015',\n '2/27/2014',\n '12-12-2012',\n '10/22/2014',\n '12-04-2014',\n '12/28/2015',\n '02-10-2013',\n '12-09-2013',\n '8/29/2015',\n '2/15/2014',\n '3/16/2015',\n '5/13/2012',\n '10/19/2012',\n '8/14/2014',\n '6/30/2015',\n '02-01-2015',\n '5/30/2015',\n '10/27/2012',\n '1/30/2015',\n '5/24/2014',\n '8/14/2012',\n '05-04-2012',\n '8/27/2014',\n '10-07-2013',\n '6/26/2014',\n '9/22/2015',\n '4/24/2015',\n '10/19/2012',\n '3/30/2015',\n '09-12-2015',\n '11/20/2014',\n '10/20/2015',\n '03-12-2013',\n '4/16/2015',\n '6/20/2013',\n '7/14/2012',\n '06-04-2014',\n '6/20/2014',\n '3/29/2015',\n '9/16/2012',\n '9/25/2013',\n '10/19/2012',\n '12/19/2012',\n '9/22/2015',\n '8/20/2012',\n '9/28/2013',\n '04-05-2015',\n '12/13/2015',\n '10/19/2014',\n '1/26/2014',\n '12/14/2015',\n ...]"
     },
     "execution_count": 9,
     "metadata": {},
     "output_type": "execute_result"
    }
   ],
   "source": [
    "ship_date = df['Ship Date'].tolist()\n",
    "ship_date"
   ],
   "metadata": {
    "collapsed": false,
    "pycharm": {
     "name": "#%%\n"
    }
   }
  },
  {
   "cell_type": "code",
   "execution_count": 10,
   "outputs": [
    {
     "data": {
      "text/plain": "DatetimeIndex(['2014-11-13', '2014-02-07', '2014-10-18', '2014-01-30',\n               '2014-11-06', '2014-07-01', '2012-11-08', '2013-04-18',\n               '2014-11-13', '2012-03-07',\n               ...\n               '2014-07-09', '2015-06-11', '2015-08-10', '2015-05-30',\n               '2013-12-31', '2015-06-19', '2014-05-10', '2012-08-31',\n               '2013-02-21', '2013-05-26'],\n              dtype='datetime64[ns]', length=51290, freq=None)"
     },
     "execution_count": 10,
     "metadata": {},
     "output_type": "execute_result"
    }
   ],
   "source": [
    "ship_datetime = pd.to_datetime(ship_date)\n",
    "ship_datetime"
   ],
   "metadata": {
    "collapsed": false,
    "pycharm": {
     "name": "#%%\n"
    }
   }
  },
  {
   "cell_type": "code",
   "execution_count": 11,
   "outputs": [
    {
     "data": {
      "text/plain": "DatetimeIndex([], dtype='datetime64[ns]', freq=None)"
     },
     "execution_count": 11,
     "metadata": {},
     "output_type": "execute_result"
    }
   ],
   "source": [
    "order_datetime[order_datetime.isnull()]"
   ],
   "metadata": {
    "collapsed": false,
    "pycharm": {
     "name": "#%%\n"
    }
   }
  },
  {
   "cell_type": "code",
   "execution_count": 13,
   "outputs": [
    {
     "data": {
      "text/plain": "DatetimeIndex([], dtype='datetime64[ns]', freq=None)"
     },
     "execution_count": 13,
     "metadata": {},
     "output_type": "execute_result"
    }
   ],
   "source": [
    "ship_datetime[ship_datetime.isnull()]"
   ],
   "metadata": {
    "collapsed": false,
    "pycharm": {
     "name": "#%%\n"
    }
   }
  },
  {
   "cell_type": "code",
   "execution_count": 21,
   "outputs": [
    {
     "data": {
      "text/plain": "0       2014-11-11\n1       2014-02-05\n2       2014-10-17\n3       2014-01-28\n4       2014-11-05\n           ...    \n51285   2015-06-19\n51286   2014-05-06\n51287   2012-08-26\n51288   2013-02-17\n51289   2013-05-22\nName: Order_Date, Length: 51290, dtype: datetime64[ns]"
     },
     "execution_count": 21,
     "metadata": {},
     "output_type": "execute_result"
    }
   ],
   "source": [
    "order_ser = pd.Series(order_datetime,name='Order_Date')\n",
    "ship_ser = pd.Series(ship_datetime, name= 'Ship_Date')\n",
    "order_ser"
   ],
   "metadata": {
    "collapsed": false,
    "pycharm": {
     "name": "#%%\n"
    }
   }
  },
  {
   "cell_type": "code",
   "execution_count": 34,
   "outputs": [
    {
     "data": {
      "text/plain": "      Order_Date  Ship_Date  Row ID                  Order ID       Ship Mode  \\\n0     2014-11-11 2014-11-13   40098  CA-2014-AB10015140-41954     First Class   \n1     2014-02-05 2014-02-07   26341    IN-2014-JR162107-41675    Second Class   \n2     2014-10-17 2014-10-18   25330    IN-2014-CR127307-41929     First Class   \n3     2014-01-28 2014-01-30   13524   ES-2014-KM1637548-41667     First Class   \n4     2014-11-05 2014-11-06   47221   SG-2014-RH9495111-41948        Same Day   \n...          ...        ...     ...                       ...             ...   \n51285 2015-06-19 2015-06-19   29002   IN-2015-KE1642066-42174        Same Day   \n51286 2014-05-06 2014-05-10   34337  US-2014-ZD21925140-41765  Standard Class   \n51287 2012-08-26 2012-08-31   31315  CA-2012-ZD21925140-41147    Second Class   \n51288 2013-02-17 2013-02-21    9596   MX-2013-RB1979518-41322  Standard Class   \n51289 2013-05-22 2013-05-26    6147   MX-2013-MC1810093-41416    Second Class   \n\n        Customer ID       Customer Name      Segment         Category  \n0      AB-100151402       Aaron Bergman     Consumer       Technology  \n1         JR-162107       Justin Ritter    Corporate        Furniture  \n2         CR-127307        Craig Reiter     Consumer       Technology  \n3        KM-1637548    Katherine Murray  Home Office       Technology  \n4        RH-9495111         Rick Hansen     Consumer       Technology  \n...             ...                 ...          ...              ...  \n51285    KE-1642066     Katrina Edelman    Corporate  Office Supplies  \n51286  ZD-219251408  Zuschuss Donatelli     Consumer        Furniture  \n51287  ZD-219251404  Zuschuss Donatelli     Consumer  Office Supplies  \n51288    RB-1979518          Ross Baird  Home Office  Office Supplies  \n51289    MC-1810093       Mick Crebagga     Consumer  Office Supplies  \n\n[51290 rows x 9 columns]",
      "text/html": "<div>\n<style scoped>\n    .dataframe tbody tr th:only-of-type {\n        vertical-align: middle;\n    }\n\n    .dataframe tbody tr th {\n        vertical-align: top;\n    }\n\n    .dataframe thead th {\n        text-align: right;\n    }\n</style>\n<table border=\"1\" class=\"dataframe\">\n  <thead>\n    <tr style=\"text-align: right;\">\n      <th></th>\n      <th>Order_Date</th>\n      <th>Ship_Date</th>\n      <th>Row ID</th>\n      <th>Order ID</th>\n      <th>Ship Mode</th>\n      <th>Customer ID</th>\n      <th>Customer Name</th>\n      <th>Segment</th>\n      <th>Category</th>\n    </tr>\n  </thead>\n  <tbody>\n    <tr>\n      <th>0</th>\n      <td>2014-11-11</td>\n      <td>2014-11-13</td>\n      <td>40098</td>\n      <td>CA-2014-AB10015140-41954</td>\n      <td>First Class</td>\n      <td>AB-100151402</td>\n      <td>Aaron Bergman</td>\n      <td>Consumer</td>\n      <td>Technology</td>\n    </tr>\n    <tr>\n      <th>1</th>\n      <td>2014-02-05</td>\n      <td>2014-02-07</td>\n      <td>26341</td>\n      <td>IN-2014-JR162107-41675</td>\n      <td>Second Class</td>\n      <td>JR-162107</td>\n      <td>Justin Ritter</td>\n      <td>Corporate</td>\n      <td>Furniture</td>\n    </tr>\n    <tr>\n      <th>2</th>\n      <td>2014-10-17</td>\n      <td>2014-10-18</td>\n      <td>25330</td>\n      <td>IN-2014-CR127307-41929</td>\n      <td>First Class</td>\n      <td>CR-127307</td>\n      <td>Craig Reiter</td>\n      <td>Consumer</td>\n      <td>Technology</td>\n    </tr>\n    <tr>\n      <th>3</th>\n      <td>2014-01-28</td>\n      <td>2014-01-30</td>\n      <td>13524</td>\n      <td>ES-2014-KM1637548-41667</td>\n      <td>First Class</td>\n      <td>KM-1637548</td>\n      <td>Katherine Murray</td>\n      <td>Home Office</td>\n      <td>Technology</td>\n    </tr>\n    <tr>\n      <th>4</th>\n      <td>2014-11-05</td>\n      <td>2014-11-06</td>\n      <td>47221</td>\n      <td>SG-2014-RH9495111-41948</td>\n      <td>Same Day</td>\n      <td>RH-9495111</td>\n      <td>Rick Hansen</td>\n      <td>Consumer</td>\n      <td>Technology</td>\n    </tr>\n    <tr>\n      <th>...</th>\n      <td>...</td>\n      <td>...</td>\n      <td>...</td>\n      <td>...</td>\n      <td>...</td>\n      <td>...</td>\n      <td>...</td>\n      <td>...</td>\n      <td>...</td>\n    </tr>\n    <tr>\n      <th>51285</th>\n      <td>2015-06-19</td>\n      <td>2015-06-19</td>\n      <td>29002</td>\n      <td>IN-2015-KE1642066-42174</td>\n      <td>Same Day</td>\n      <td>KE-1642066</td>\n      <td>Katrina Edelman</td>\n      <td>Corporate</td>\n      <td>Office Supplies</td>\n    </tr>\n    <tr>\n      <th>51286</th>\n      <td>2014-05-06</td>\n      <td>2014-05-10</td>\n      <td>34337</td>\n      <td>US-2014-ZD21925140-41765</td>\n      <td>Standard Class</td>\n      <td>ZD-219251408</td>\n      <td>Zuschuss Donatelli</td>\n      <td>Consumer</td>\n      <td>Furniture</td>\n    </tr>\n    <tr>\n      <th>51287</th>\n      <td>2012-08-26</td>\n      <td>2012-08-31</td>\n      <td>31315</td>\n      <td>CA-2012-ZD21925140-41147</td>\n      <td>Second Class</td>\n      <td>ZD-219251404</td>\n      <td>Zuschuss Donatelli</td>\n      <td>Consumer</td>\n      <td>Office Supplies</td>\n    </tr>\n    <tr>\n      <th>51288</th>\n      <td>2013-02-17</td>\n      <td>2013-02-21</td>\n      <td>9596</td>\n      <td>MX-2013-RB1979518-41322</td>\n      <td>Standard Class</td>\n      <td>RB-1979518</td>\n      <td>Ross Baird</td>\n      <td>Home Office</td>\n      <td>Office Supplies</td>\n    </tr>\n    <tr>\n      <th>51289</th>\n      <td>2013-05-22</td>\n      <td>2013-05-26</td>\n      <td>6147</td>\n      <td>MX-2013-MC1810093-41416</td>\n      <td>Second Class</td>\n      <td>MC-1810093</td>\n      <td>Mick Crebagga</td>\n      <td>Consumer</td>\n      <td>Office Supplies</td>\n    </tr>\n  </tbody>\n</table>\n<p>51290 rows × 9 columns</p>\n</div>"
     },
     "execution_count": 34,
     "metadata": {},
     "output_type": "execute_result"
    }
   ],
   "source": [
    "date_modified = pd.concat([order_ser,ship_ser,df[['Row ID', 'Order ID', 'Ship Mode', 'Customer ID', 'Customer Name', 'Segment', 'Category']]], axis=1)\n",
    "date_modified"
   ],
   "metadata": {
    "collapsed": false,
    "pycharm": {
     "name": "#%%\n"
    }
   }
  },
  {
   "cell_type": "markdown",
   "metadata": {
    "pycharm": {
     "name": "#%% md\n"
    }
   },
   "source": [
    "\n",
    "#### Exercise_02\n",
    "For the data created in Exercise_01 to the data 'global_superstor_2016'\n",
    "1. Set the Series 'Order_Date' created as the index of the DataFrame 'data_modified'\n",
    "2. Check whether the DatetimeIndex of the DataFrame is unique or not\n",
    "3. Find the number of orders made in each year for the data 'global_superstore_2016'\n",
    "4. Group the 'indexed_data' on level '0' that is on the DatetimeIndex object and count the number of Orders made for any arbitrary date"
   ]
  },
  {
   "cell_type": "code",
   "execution_count": 35,
   "outputs": [
    {
     "data": {
      "text/plain": "            Ship_Date  Row ID                  Order ID       Ship Mode  \\\nOrder_Date                                                                \n2014-11-11 2014-11-13   40098  CA-2014-AB10015140-41954     First Class   \n2014-02-05 2014-02-07   26341    IN-2014-JR162107-41675    Second Class   \n2014-10-17 2014-10-18   25330    IN-2014-CR127307-41929     First Class   \n2014-01-28 2014-01-30   13524   ES-2014-KM1637548-41667     First Class   \n2014-11-05 2014-11-06   47221   SG-2014-RH9495111-41948        Same Day   \n...               ...     ...                       ...             ...   \n2015-06-19 2015-06-19   29002   IN-2015-KE1642066-42174        Same Day   \n2014-05-06 2014-05-10   34337  US-2014-ZD21925140-41765  Standard Class   \n2012-08-26 2012-08-31   31315  CA-2012-ZD21925140-41147    Second Class   \n2013-02-17 2013-02-21    9596   MX-2013-RB1979518-41322  Standard Class   \n2013-05-22 2013-05-26    6147   MX-2013-MC1810093-41416    Second Class   \n\n             Customer ID       Customer Name      Segment         Category  \nOrder_Date                                                                  \n2014-11-11  AB-100151402       Aaron Bergman     Consumer       Technology  \n2014-02-05     JR-162107       Justin Ritter    Corporate        Furniture  \n2014-10-17     CR-127307        Craig Reiter     Consumer       Technology  \n2014-01-28    KM-1637548    Katherine Murray  Home Office       Technology  \n2014-11-05    RH-9495111         Rick Hansen     Consumer       Technology  \n...                  ...                 ...          ...              ...  \n2015-06-19    KE-1642066     Katrina Edelman    Corporate  Office Supplies  \n2014-05-06  ZD-219251408  Zuschuss Donatelli     Consumer        Furniture  \n2012-08-26  ZD-219251404  Zuschuss Donatelli     Consumer  Office Supplies  \n2013-02-17    RB-1979518          Ross Baird  Home Office  Office Supplies  \n2013-05-22    MC-1810093       Mick Crebagga     Consumer  Office Supplies  \n\n[51290 rows x 8 columns]",
      "text/html": "<div>\n<style scoped>\n    .dataframe tbody tr th:only-of-type {\n        vertical-align: middle;\n    }\n\n    .dataframe tbody tr th {\n        vertical-align: top;\n    }\n\n    .dataframe thead th {\n        text-align: right;\n    }\n</style>\n<table border=\"1\" class=\"dataframe\">\n  <thead>\n    <tr style=\"text-align: right;\">\n      <th></th>\n      <th>Ship_Date</th>\n      <th>Row ID</th>\n      <th>Order ID</th>\n      <th>Ship Mode</th>\n      <th>Customer ID</th>\n      <th>Customer Name</th>\n      <th>Segment</th>\n      <th>Category</th>\n    </tr>\n    <tr>\n      <th>Order_Date</th>\n      <th></th>\n      <th></th>\n      <th></th>\n      <th></th>\n      <th></th>\n      <th></th>\n      <th></th>\n      <th></th>\n    </tr>\n  </thead>\n  <tbody>\n    <tr>\n      <th>2014-11-11</th>\n      <td>2014-11-13</td>\n      <td>40098</td>\n      <td>CA-2014-AB10015140-41954</td>\n      <td>First Class</td>\n      <td>AB-100151402</td>\n      <td>Aaron Bergman</td>\n      <td>Consumer</td>\n      <td>Technology</td>\n    </tr>\n    <tr>\n      <th>2014-02-05</th>\n      <td>2014-02-07</td>\n      <td>26341</td>\n      <td>IN-2014-JR162107-41675</td>\n      <td>Second Class</td>\n      <td>JR-162107</td>\n      <td>Justin Ritter</td>\n      <td>Corporate</td>\n      <td>Furniture</td>\n    </tr>\n    <tr>\n      <th>2014-10-17</th>\n      <td>2014-10-18</td>\n      <td>25330</td>\n      <td>IN-2014-CR127307-41929</td>\n      <td>First Class</td>\n      <td>CR-127307</td>\n      <td>Craig Reiter</td>\n      <td>Consumer</td>\n      <td>Technology</td>\n    </tr>\n    <tr>\n      <th>2014-01-28</th>\n      <td>2014-01-30</td>\n      <td>13524</td>\n      <td>ES-2014-KM1637548-41667</td>\n      <td>First Class</td>\n      <td>KM-1637548</td>\n      <td>Katherine Murray</td>\n      <td>Home Office</td>\n      <td>Technology</td>\n    </tr>\n    <tr>\n      <th>2014-11-05</th>\n      <td>2014-11-06</td>\n      <td>47221</td>\n      <td>SG-2014-RH9495111-41948</td>\n      <td>Same Day</td>\n      <td>RH-9495111</td>\n      <td>Rick Hansen</td>\n      <td>Consumer</td>\n      <td>Technology</td>\n    </tr>\n    <tr>\n      <th>...</th>\n      <td>...</td>\n      <td>...</td>\n      <td>...</td>\n      <td>...</td>\n      <td>...</td>\n      <td>...</td>\n      <td>...</td>\n      <td>...</td>\n    </tr>\n    <tr>\n      <th>2015-06-19</th>\n      <td>2015-06-19</td>\n      <td>29002</td>\n      <td>IN-2015-KE1642066-42174</td>\n      <td>Same Day</td>\n      <td>KE-1642066</td>\n      <td>Katrina Edelman</td>\n      <td>Corporate</td>\n      <td>Office Supplies</td>\n    </tr>\n    <tr>\n      <th>2014-05-06</th>\n      <td>2014-05-10</td>\n      <td>34337</td>\n      <td>US-2014-ZD21925140-41765</td>\n      <td>Standard Class</td>\n      <td>ZD-219251408</td>\n      <td>Zuschuss Donatelli</td>\n      <td>Consumer</td>\n      <td>Furniture</td>\n    </tr>\n    <tr>\n      <th>2012-08-26</th>\n      <td>2012-08-31</td>\n      <td>31315</td>\n      <td>CA-2012-ZD21925140-41147</td>\n      <td>Second Class</td>\n      <td>ZD-219251404</td>\n      <td>Zuschuss Donatelli</td>\n      <td>Consumer</td>\n      <td>Office Supplies</td>\n    </tr>\n    <tr>\n      <th>2013-02-17</th>\n      <td>2013-02-21</td>\n      <td>9596</td>\n      <td>MX-2013-RB1979518-41322</td>\n      <td>Standard Class</td>\n      <td>RB-1979518</td>\n      <td>Ross Baird</td>\n      <td>Home Office</td>\n      <td>Office Supplies</td>\n    </tr>\n    <tr>\n      <th>2013-05-22</th>\n      <td>2013-05-26</td>\n      <td>6147</td>\n      <td>MX-2013-MC1810093-41416</td>\n      <td>Second Class</td>\n      <td>MC-1810093</td>\n      <td>Mick Crebagga</td>\n      <td>Consumer</td>\n      <td>Office Supplies</td>\n    </tr>\n  </tbody>\n</table>\n<p>51290 rows × 8 columns</p>\n</div>"
     },
     "execution_count": 35,
     "metadata": {},
     "output_type": "execute_result"
    }
   ],
   "source": [
    "index_data = date_modified.set_index(['Order_Date'])\n",
    "index_data"
   ],
   "metadata": {
    "collapsed": false,
    "pycharm": {
     "name": "#%%\n"
    }
   }
  },
  {
   "cell_type": "code",
   "execution_count": 42,
   "outputs": [
    {
     "data": {
      "text/plain": "False"
     },
     "execution_count": 42,
     "metadata": {},
     "output_type": "execute_result"
    }
   ],
   "source": [
    "index_data.index.is_unique"
   ],
   "metadata": {
    "collapsed": false,
    "pycharm": {
     "name": "#%%\n"
    }
   }
  },
  {
   "cell_type": "code",
   "execution_count": 81,
   "outputs": [
    {
     "name": "stdout",
     "output_type": "stream",
     "text": [
      "51290\n"
     ]
    }
   ],
   "source": [
    "a = len(index_data.loc['2012']);b = len(index_data.loc['2013']);c=len(index_data.loc['2014']);d=len(index_data.loc['2015'])\n",
    "print(a+b+c+d)"
   ],
   "metadata": {
    "collapsed": false,
    "pycharm": {
     "name": "#%%\n"
    }
   }
  },
  {
   "cell_type": "code",
   "execution_count": 82,
   "outputs": [
    {
     "data": {
      "text/plain": "<pandas.core.groupby.generic.SeriesGroupBy object at 0x00000211905A6820>"
     },
     "execution_count": 82,
     "metadata": {},
     "output_type": "execute_result"
    }
   ],
   "source": [
    "grouped = index_data.groupby(level=0)['Order ID']\n",
    "grouped"
   ],
   "metadata": {
    "collapsed": false,
    "pycharm": {
     "name": "#%%\n"
    }
   }
  },
  {
   "cell_type": "code",
   "execution_count": 86,
   "outputs": [
    {
     "data": {
      "text/plain": "Order_Date\n2012-01-01      6\n2012-01-02      1\n2012-01-03     20\n2012-01-04     16\n2012-01-05      7\n             ... \n2015-12-27     54\n2015-12-28     13\n2015-12-29    116\n2015-12-30     79\n2015-12-31     62\nName: Order ID, Length: 1430, dtype: int64"
     },
     "execution_count": 86,
     "metadata": {},
     "output_type": "execute_result"
    }
   ],
   "source": [
    "grouped.count()"
   ],
   "metadata": {
    "collapsed": false,
    "pycharm": {
     "name": "#%%\n"
    }
   }
  }
 ],
 "metadata": {
  "kernelspec": {
   "display_name": "Python 3",
   "language": "python",
   "name": "python3"
  },
  "language_info": {
   "codemirror_mode": {
    "name": "ipython",
    "version": 3
   },
   "file_extension": ".py",
   "mimetype": "text/x-python",
   "name": "python",
   "nbconvert_exporter": "python",
   "pygments_lexer": "ipython3",
   "version": "3.7.4"
  }
 },
 "nbformat": 4,
 "nbformat_minor": 2
}