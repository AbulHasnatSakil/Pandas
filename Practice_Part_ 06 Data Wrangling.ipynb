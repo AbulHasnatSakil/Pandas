{
 "cells": [
  {
   "cell_type": "markdown",
   "metadata": {},
   "source": [
    "# Practice_Part_06: Data Wrangling"
   ]
  },
  {
   "cell_type": "code",
   "execution_count": 1,
   "metadata": {},
   "outputs": [],
   "source": [
    "import pandas as pd,numpy as np"
   ]
  },
  {
   "cell_type": "markdown",
   "metadata": {},
   "source": [
    "#### Exercise_01\n",
    "For the titanic data set in 'data/titanic':\n",
    "1. Set the MultiIndex for the data with the columns 'sex' and 'name'\n",
    "2. Extract the columns ['sex', 'name', 'survived', 'pclass'] as two separate data sets and combine them using join method\n",
    "3. Concat the two data sets given below with the lavel names as 'data1' and 'data2'\n",
    "4. Stack the titanic data on the columns 'sex' and 'name' and observe how the data looks"
   ]
  },
  {
   "cell_type": "code",
   "execution_count": 11,
   "metadata": {},
   "outputs": [
    {
     "data": {
      "text/plain": "   pclass  survived                                             name     sex  \\\n0       1         1                    Allen, Miss. Elisabeth Walton  female   \n1       1         1                   Allison, Master. Hudson Trevor    male   \n2       1         0                     Allison, Miss. Helen Loraine  female   \n3       1         0             Allison, Mr. Hudson Joshua Creighton    male   \n4       1         0  Allison, Mrs. Hudson J C (Bessie Waldo Daniels)  female   \n\n     age  sibsp  parch  ticket      fare    cabin embarked boat   body  \\\n0  29.00      0      0   24160  211.3375       B5        S    2    NaN   \n1   0.92      1      2  113781  151.5500  C22 C26        S   11    NaN   \n2   2.00      1      2  113781  151.5500  C22 C26        S  NaN    NaN   \n3  30.00      1      2  113781  151.5500  C22 C26        S  NaN  135.0   \n4  25.00      1      2  113781  151.5500  C22 C26        S  NaN    NaN   \n\n                         home.dest  \n0                     St Louis, MO  \n1  Montreal, PQ / Chesterville, ON  \n2  Montreal, PQ / Chesterville, ON  \n3  Montreal, PQ / Chesterville, ON  \n4  Montreal, PQ / Chesterville, ON  ",
      "text/html": "<div>\n<style scoped>\n    .dataframe tbody tr th:only-of-type {\n        vertical-align: middle;\n    }\n\n    .dataframe tbody tr th {\n        vertical-align: top;\n    }\n\n    .dataframe thead th {\n        text-align: right;\n    }\n</style>\n<table border=\"1\" class=\"dataframe\">\n  <thead>\n    <tr style=\"text-align: right;\">\n      <th></th>\n      <th>pclass</th>\n      <th>survived</th>\n      <th>name</th>\n      <th>sex</th>\n      <th>age</th>\n      <th>sibsp</th>\n      <th>parch</th>\n      <th>ticket</th>\n      <th>fare</th>\n      <th>cabin</th>\n      <th>embarked</th>\n      <th>boat</th>\n      <th>body</th>\n      <th>home.dest</th>\n    </tr>\n  </thead>\n  <tbody>\n    <tr>\n      <th>0</th>\n      <td>1</td>\n      <td>1</td>\n      <td>Allen, Miss. Elisabeth Walton</td>\n      <td>female</td>\n      <td>29.00</td>\n      <td>0</td>\n      <td>0</td>\n      <td>24160</td>\n      <td>211.3375</td>\n      <td>B5</td>\n      <td>S</td>\n      <td>2</td>\n      <td>NaN</td>\n      <td>St Louis, MO</td>\n    </tr>\n    <tr>\n      <th>1</th>\n      <td>1</td>\n      <td>1</td>\n      <td>Allison, Master. Hudson Trevor</td>\n      <td>male</td>\n      <td>0.92</td>\n      <td>1</td>\n      <td>2</td>\n      <td>113781</td>\n      <td>151.5500</td>\n      <td>C22 C26</td>\n      <td>S</td>\n      <td>11</td>\n      <td>NaN</td>\n      <td>Montreal, PQ / Chesterville, ON</td>\n    </tr>\n    <tr>\n      <th>2</th>\n      <td>1</td>\n      <td>0</td>\n      <td>Allison, Miss. Helen Loraine</td>\n      <td>female</td>\n      <td>2.00</td>\n      <td>1</td>\n      <td>2</td>\n      <td>113781</td>\n      <td>151.5500</td>\n      <td>C22 C26</td>\n      <td>S</td>\n      <td>NaN</td>\n      <td>NaN</td>\n      <td>Montreal, PQ / Chesterville, ON</td>\n    </tr>\n    <tr>\n      <th>3</th>\n      <td>1</td>\n      <td>0</td>\n      <td>Allison, Mr. Hudson Joshua Creighton</td>\n      <td>male</td>\n      <td>30.00</td>\n      <td>1</td>\n      <td>2</td>\n      <td>113781</td>\n      <td>151.5500</td>\n      <td>C22 C26</td>\n      <td>S</td>\n      <td>NaN</td>\n      <td>135.0</td>\n      <td>Montreal, PQ / Chesterville, ON</td>\n    </tr>\n    <tr>\n      <th>4</th>\n      <td>1</td>\n      <td>0</td>\n      <td>Allison, Mrs. Hudson J C (Bessie Waldo Daniels)</td>\n      <td>female</td>\n      <td>25.00</td>\n      <td>1</td>\n      <td>2</td>\n      <td>113781</td>\n      <td>151.5500</td>\n      <td>C22 C26</td>\n      <td>S</td>\n      <td>NaN</td>\n      <td>NaN</td>\n      <td>Montreal, PQ / Chesterville, ON</td>\n    </tr>\n  </tbody>\n</table>\n</div>"
     },
     "execution_count": 11,
     "metadata": {},
     "output_type": "execute_result"
    }
   ],
   "source": [
    "df = pd.read_csv('data/titanic/original_titanic.csv')\n",
    "df.head()"
   ]
  },
  {
   "cell_type": "code",
   "execution_count": 16,
   "outputs": [
    {
     "data": {
      "text/plain": "                                                        pclass  survived  \\\nsex    name                                                                \nfemale Allen, Miss. Elisabeth Walton                         1         1   \nmale   Allison, Master. Hudson Trevor                        1         1   \nfemale Allison, Miss. Helen Loraine                          1         0   \nmale   Allison, Mr. Hudson Joshua Creighton                  1         0   \nfemale Allison, Mrs. Hudson J C (Bessie Waldo Daniels)       1         0   \n\n                                                          age  sibsp  parch  \\\nsex    name                                                                   \nfemale Allen, Miss. Elisabeth Walton                    29.00      0      0   \nmale   Allison, Master. Hudson Trevor                    0.92      1      2   \nfemale Allison, Miss. Helen Loraine                      2.00      1      2   \nmale   Allison, Mr. Hudson Joshua Creighton             30.00      1      2   \nfemale Allison, Mrs. Hudson J C (Bessie Waldo Daniels)  25.00      1      2   \n\n                                                        ticket      fare  \\\nsex    name                                                                \nfemale Allen, Miss. Elisabeth Walton                     24160  211.3375   \nmale   Allison, Master. Hudson Trevor                   113781  151.5500   \nfemale Allison, Miss. Helen Loraine                     113781  151.5500   \nmale   Allison, Mr. Hudson Joshua Creighton             113781  151.5500   \nfemale Allison, Mrs. Hudson J C (Bessie Waldo Daniels)  113781  151.5500   \n\n                                                          cabin embarked boat  \\\nsex    name                                                                     \nfemale Allen, Miss. Elisabeth Walton                         B5        S    2   \nmale   Allison, Master. Hudson Trevor                   C22 C26        S   11   \nfemale Allison, Miss. Helen Loraine                     C22 C26        S  NaN   \nmale   Allison, Mr. Hudson Joshua Creighton             C22 C26        S  NaN   \nfemale Allison, Mrs. Hudson J C (Bessie Waldo Daniels)  C22 C26        S  NaN   \n\n                                                         body  \\\nsex    name                                                     \nfemale Allen, Miss. Elisabeth Walton                      NaN   \nmale   Allison, Master. Hudson Trevor                     NaN   \nfemale Allison, Miss. Helen Loraine                       NaN   \nmale   Allison, Mr. Hudson Joshua Creighton             135.0   \nfemale Allison, Mrs. Hudson J C (Bessie Waldo Daniels)    NaN   \n\n                                                                              home.dest  \nsex    name                                                                              \nfemale Allen, Miss. Elisabeth Walton                                       St Louis, MO  \nmale   Allison, Master. Hudson Trevor                   Montreal, PQ / Chesterville, ON  \nfemale Allison, Miss. Helen Loraine                     Montreal, PQ / Chesterville, ON  \nmale   Allison, Mr. Hudson Joshua Creighton             Montreal, PQ / Chesterville, ON  \nfemale Allison, Mrs. Hudson J C (Bessie Waldo Daniels)  Montreal, PQ / Chesterville, ON  ",
      "text/html": "<div>\n<style scoped>\n    .dataframe tbody tr th:only-of-type {\n        vertical-align: middle;\n    }\n\n    .dataframe tbody tr th {\n        vertical-align: top;\n    }\n\n    .dataframe thead th {\n        text-align: right;\n    }\n</style>\n<table border=\"1\" class=\"dataframe\">\n  <thead>\n    <tr style=\"text-align: right;\">\n      <th></th>\n      <th></th>\n      <th>pclass</th>\n      <th>survived</th>\n      <th>age</th>\n      <th>sibsp</th>\n      <th>parch</th>\n      <th>ticket</th>\n      <th>fare</th>\n      <th>cabin</th>\n      <th>embarked</th>\n      <th>boat</th>\n      <th>body</th>\n      <th>home.dest</th>\n    </tr>\n    <tr>\n      <th>sex</th>\n      <th>name</th>\n      <th></th>\n      <th></th>\n      <th></th>\n      <th></th>\n      <th></th>\n      <th></th>\n      <th></th>\n      <th></th>\n      <th></th>\n      <th></th>\n      <th></th>\n      <th></th>\n    </tr>\n  </thead>\n  <tbody>\n    <tr>\n      <th>female</th>\n      <th>Allen, Miss. Elisabeth Walton</th>\n      <td>1</td>\n      <td>1</td>\n      <td>29.00</td>\n      <td>0</td>\n      <td>0</td>\n      <td>24160</td>\n      <td>211.3375</td>\n      <td>B5</td>\n      <td>S</td>\n      <td>2</td>\n      <td>NaN</td>\n      <td>St Louis, MO</td>\n    </tr>\n    <tr>\n      <th>male</th>\n      <th>Allison, Master. Hudson Trevor</th>\n      <td>1</td>\n      <td>1</td>\n      <td>0.92</td>\n      <td>1</td>\n      <td>2</td>\n      <td>113781</td>\n      <td>151.5500</td>\n      <td>C22 C26</td>\n      <td>S</td>\n      <td>11</td>\n      <td>NaN</td>\n      <td>Montreal, PQ / Chesterville, ON</td>\n    </tr>\n    <tr>\n      <th>female</th>\n      <th>Allison, Miss. Helen Loraine</th>\n      <td>1</td>\n      <td>0</td>\n      <td>2.00</td>\n      <td>1</td>\n      <td>2</td>\n      <td>113781</td>\n      <td>151.5500</td>\n      <td>C22 C26</td>\n      <td>S</td>\n      <td>NaN</td>\n      <td>NaN</td>\n      <td>Montreal, PQ / Chesterville, ON</td>\n    </tr>\n    <tr>\n      <th>male</th>\n      <th>Allison, Mr. Hudson Joshua Creighton</th>\n      <td>1</td>\n      <td>0</td>\n      <td>30.00</td>\n      <td>1</td>\n      <td>2</td>\n      <td>113781</td>\n      <td>151.5500</td>\n      <td>C22 C26</td>\n      <td>S</td>\n      <td>NaN</td>\n      <td>135.0</td>\n      <td>Montreal, PQ / Chesterville, ON</td>\n    </tr>\n    <tr>\n      <th>female</th>\n      <th>Allison, Mrs. Hudson J C (Bessie Waldo Daniels)</th>\n      <td>1</td>\n      <td>0</td>\n      <td>25.00</td>\n      <td>1</td>\n      <td>2</td>\n      <td>113781</td>\n      <td>151.5500</td>\n      <td>C22 C26</td>\n      <td>S</td>\n      <td>NaN</td>\n      <td>NaN</td>\n      <td>Montreal, PQ / Chesterville, ON</td>\n    </tr>\n  </tbody>\n</table>\n</div>"
     },
     "execution_count": 16,
     "metadata": {},
     "output_type": "execute_result"
    }
   ],
   "source": [
    "df_index = df.set_index(['sex','name'])\n",
    "df_index.head()"
   ],
   "metadata": {
    "collapsed": false,
    "pycharm": {
     "name": "#%%\n"
    }
   }
  },
  {
   "cell_type": "code",
   "execution_count": 17,
   "outputs": [
    {
     "data": {
      "text/plain": "                                                        pclass  survived  \\\nsex    name                                                                \nfemale Allen, Miss. Elisabeth Walton                         1         1   \nmale   Allison, Master. Hudson Trevor                        1         1   \nfemale Allison, Miss. Helen Loraine                          1         0   \nmale   Allison, Mr. Hudson Joshua Creighton                  1         0   \nfemale Allison, Mrs. Hudson J C (Bessie Waldo Daniels)       1         0   \n\n                                                                                                   name  \\\nsex    name                                                                                               \nfemale Allen, Miss. Elisabeth Walton                                      Allen, Miss. Elisabeth Walton   \nmale   Allison, Master. Hudson Trevor                                    Allison, Master. Hudson Trevor   \nfemale Allison, Miss. Helen Loraine                                        Allison, Miss. Helen Loraine   \nmale   Allison, Mr. Hudson Joshua Creighton                        Allison, Mr. Hudson Joshua Creighton   \nfemale Allison, Mrs. Hudson J C (Bessie Waldo Daniels)  Allison, Mrs. Hudson J C (Bessie Waldo Daniels)   \n\n                                                           sex    age  sibsp  \\\nsex    name                                                                    \nfemale Allen, Miss. Elisabeth Walton                    female  29.00      0   \nmale   Allison, Master. Hudson Trevor                     male   0.92      1   \nfemale Allison, Miss. Helen Loraine                     female   2.00      1   \nmale   Allison, Mr. Hudson Joshua Creighton               male  30.00      1   \nfemale Allison, Mrs. Hudson J C (Bessie Waldo Daniels)  female  25.00      1   \n\n                                                        parch  ticket  \\\nsex    name                                                             \nfemale Allen, Miss. Elisabeth Walton                        0   24160   \nmale   Allison, Master. Hudson Trevor                       2  113781   \nfemale Allison, Miss. Helen Loraine                         2  113781   \nmale   Allison, Mr. Hudson Joshua Creighton                 2  113781   \nfemale Allison, Mrs. Hudson J C (Bessie Waldo Daniels)      2  113781   \n\n                                                            fare    cabin  \\\nsex    name                                                                 \nfemale Allen, Miss. Elisabeth Walton                    211.3375       B5   \nmale   Allison, Master. Hudson Trevor                   151.5500  C22 C26   \nfemale Allison, Miss. Helen Loraine                     151.5500  C22 C26   \nmale   Allison, Mr. Hudson Joshua Creighton             151.5500  C22 C26   \nfemale Allison, Mrs. Hudson J C (Bessie Waldo Daniels)  151.5500  C22 C26   \n\n                                                       embarked boat   body  \\\nsex    name                                                                   \nfemale Allen, Miss. Elisabeth Walton                          S    2    NaN   \nmale   Allison, Master. Hudson Trevor                         S   11    NaN   \nfemale Allison, Miss. Helen Loraine                           S  NaN    NaN   \nmale   Allison, Mr. Hudson Joshua Creighton                   S  NaN  135.0   \nfemale Allison, Mrs. Hudson J C (Bessie Waldo Daniels)        S  NaN    NaN   \n\n                                                                              home.dest  \nsex    name                                                                              \nfemale Allen, Miss. Elisabeth Walton                                       St Louis, MO  \nmale   Allison, Master. Hudson Trevor                   Montreal, PQ / Chesterville, ON  \nfemale Allison, Miss. Helen Loraine                     Montreal, PQ / Chesterville, ON  \nmale   Allison, Mr. Hudson Joshua Creighton             Montreal, PQ / Chesterville, ON  \nfemale Allison, Mrs. Hudson J C (Bessie Waldo Daniels)  Montreal, PQ / Chesterville, ON  ",
      "text/html": "<div>\n<style scoped>\n    .dataframe tbody tr th:only-of-type {\n        vertical-align: middle;\n    }\n\n    .dataframe tbody tr th {\n        vertical-align: top;\n    }\n\n    .dataframe thead th {\n        text-align: right;\n    }\n</style>\n<table border=\"1\" class=\"dataframe\">\n  <thead>\n    <tr style=\"text-align: right;\">\n      <th></th>\n      <th></th>\n      <th>pclass</th>\n      <th>survived</th>\n      <th>name</th>\n      <th>sex</th>\n      <th>age</th>\n      <th>sibsp</th>\n      <th>parch</th>\n      <th>ticket</th>\n      <th>fare</th>\n      <th>cabin</th>\n      <th>embarked</th>\n      <th>boat</th>\n      <th>body</th>\n      <th>home.dest</th>\n    </tr>\n    <tr>\n      <th>sex</th>\n      <th>name</th>\n      <th></th>\n      <th></th>\n      <th></th>\n      <th></th>\n      <th></th>\n      <th></th>\n      <th></th>\n      <th></th>\n      <th></th>\n      <th></th>\n      <th></th>\n      <th></th>\n      <th></th>\n      <th></th>\n    </tr>\n  </thead>\n  <tbody>\n    <tr>\n      <th>female</th>\n      <th>Allen, Miss. Elisabeth Walton</th>\n      <td>1</td>\n      <td>1</td>\n      <td>Allen, Miss. Elisabeth Walton</td>\n      <td>female</td>\n      <td>29.00</td>\n      <td>0</td>\n      <td>0</td>\n      <td>24160</td>\n      <td>211.3375</td>\n      <td>B5</td>\n      <td>S</td>\n      <td>2</td>\n      <td>NaN</td>\n      <td>St Louis, MO</td>\n    </tr>\n    <tr>\n      <th>male</th>\n      <th>Allison, Master. Hudson Trevor</th>\n      <td>1</td>\n      <td>1</td>\n      <td>Allison, Master. Hudson Trevor</td>\n      <td>male</td>\n      <td>0.92</td>\n      <td>1</td>\n      <td>2</td>\n      <td>113781</td>\n      <td>151.5500</td>\n      <td>C22 C26</td>\n      <td>S</td>\n      <td>11</td>\n      <td>NaN</td>\n      <td>Montreal, PQ / Chesterville, ON</td>\n    </tr>\n    <tr>\n      <th>female</th>\n      <th>Allison, Miss. Helen Loraine</th>\n      <td>1</td>\n      <td>0</td>\n      <td>Allison, Miss. Helen Loraine</td>\n      <td>female</td>\n      <td>2.00</td>\n      <td>1</td>\n      <td>2</td>\n      <td>113781</td>\n      <td>151.5500</td>\n      <td>C22 C26</td>\n      <td>S</td>\n      <td>NaN</td>\n      <td>NaN</td>\n      <td>Montreal, PQ / Chesterville, ON</td>\n    </tr>\n    <tr>\n      <th>male</th>\n      <th>Allison, Mr. Hudson Joshua Creighton</th>\n      <td>1</td>\n      <td>0</td>\n      <td>Allison, Mr. Hudson Joshua Creighton</td>\n      <td>male</td>\n      <td>30.00</td>\n      <td>1</td>\n      <td>2</td>\n      <td>113781</td>\n      <td>151.5500</td>\n      <td>C22 C26</td>\n      <td>S</td>\n      <td>NaN</td>\n      <td>135.0</td>\n      <td>Montreal, PQ / Chesterville, ON</td>\n    </tr>\n    <tr>\n      <th>female</th>\n      <th>Allison, Mrs. Hudson J C (Bessie Waldo Daniels)</th>\n      <td>1</td>\n      <td>0</td>\n      <td>Allison, Mrs. Hudson J C (Bessie Waldo Daniels)</td>\n      <td>female</td>\n      <td>25.00</td>\n      <td>1</td>\n      <td>2</td>\n      <td>113781</td>\n      <td>151.5500</td>\n      <td>C22 C26</td>\n      <td>S</td>\n      <td>NaN</td>\n      <td>NaN</td>\n      <td>Montreal, PQ / Chesterville, ON</td>\n    </tr>\n  </tbody>\n</table>\n</div>"
     },
     "execution_count": 17,
     "metadata": {},
     "output_type": "execute_result"
    }
   ],
   "source": [
    "df_index1 = df.set_index(['sex','name'],drop=False)\n",
    "df_index1.head()"
   ],
   "metadata": {
    "collapsed": false,
    "pycharm": {
     "name": "#%%\n"
    }
   }
  },
  {
   "cell_type": "code",
   "execution_count": 18,
   "outputs": [
    {
     "data": {
      "text/plain": "      sex                                             name  survived\n0  female                    Allen, Miss. Elisabeth Walton         1\n1    male                   Allison, Master. Hudson Trevor         1\n2  female                     Allison, Miss. Helen Loraine         0\n3    male             Allison, Mr. Hudson Joshua Creighton         0\n4  female  Allison, Mrs. Hudson J C (Bessie Waldo Daniels)         0",
      "text/html": "<div>\n<style scoped>\n    .dataframe tbody tr th:only-of-type {\n        vertical-align: middle;\n    }\n\n    .dataframe tbody tr th {\n        vertical-align: top;\n    }\n\n    .dataframe thead th {\n        text-align: right;\n    }\n</style>\n<table border=\"1\" class=\"dataframe\">\n  <thead>\n    <tr style=\"text-align: right;\">\n      <th></th>\n      <th>sex</th>\n      <th>name</th>\n      <th>survived</th>\n    </tr>\n  </thead>\n  <tbody>\n    <tr>\n      <th>0</th>\n      <td>female</td>\n      <td>Allen, Miss. Elisabeth Walton</td>\n      <td>1</td>\n    </tr>\n    <tr>\n      <th>1</th>\n      <td>male</td>\n      <td>Allison, Master. Hudson Trevor</td>\n      <td>1</td>\n    </tr>\n    <tr>\n      <th>2</th>\n      <td>female</td>\n      <td>Allison, Miss. Helen Loraine</td>\n      <td>0</td>\n    </tr>\n    <tr>\n      <th>3</th>\n      <td>male</td>\n      <td>Allison, Mr. Hudson Joshua Creighton</td>\n      <td>0</td>\n    </tr>\n    <tr>\n      <th>4</th>\n      <td>female</td>\n      <td>Allison, Mrs. Hudson J C (Bessie Waldo Daniels)</td>\n      <td>0</td>\n    </tr>\n  </tbody>\n</table>\n</div>"
     },
     "execution_count": 18,
     "metadata": {},
     "output_type": "execute_result"
    }
   ],
   "source": [
    "df_1 = df[['sex', 'name', 'survived']]\n",
    "df_1.head()"
   ],
   "metadata": {
    "collapsed": false,
    "pycharm": {
     "name": "#%%\n"
    }
   }
  },
  {
   "cell_type": "code",
   "execution_count": 19,
   "outputs": [
    {
     "data": {
      "text/plain": "   pclass  survived     sex\n0       1         1  female\n1       1         1    male\n2       1         0  female\n3       1         0    male\n4       1         0  female",
      "text/html": "<div>\n<style scoped>\n    .dataframe tbody tr th:only-of-type {\n        vertical-align: middle;\n    }\n\n    .dataframe tbody tr th {\n        vertical-align: top;\n    }\n\n    .dataframe thead th {\n        text-align: right;\n    }\n</style>\n<table border=\"1\" class=\"dataframe\">\n  <thead>\n    <tr style=\"text-align: right;\">\n      <th></th>\n      <th>pclass</th>\n      <th>survived</th>\n      <th>sex</th>\n    </tr>\n  </thead>\n  <tbody>\n    <tr>\n      <th>0</th>\n      <td>1</td>\n      <td>1</td>\n      <td>female</td>\n    </tr>\n    <tr>\n      <th>1</th>\n      <td>1</td>\n      <td>1</td>\n      <td>male</td>\n    </tr>\n    <tr>\n      <th>2</th>\n      <td>1</td>\n      <td>0</td>\n      <td>female</td>\n    </tr>\n    <tr>\n      <th>3</th>\n      <td>1</td>\n      <td>0</td>\n      <td>male</td>\n    </tr>\n    <tr>\n      <th>4</th>\n      <td>1</td>\n      <td>0</td>\n      <td>female</td>\n    </tr>\n  </tbody>\n</table>\n</div>"
     },
     "execution_count": 19,
     "metadata": {},
     "output_type": "execute_result"
    }
   ],
   "source": [
    "df_2 = df[['pclass','survived','sex']]\n",
    "df_2.head()"
   ],
   "metadata": {
    "collapsed": false,
    "pycharm": {
     "name": "#%%\n"
    }
   }
  },
  {
   "cell_type": "code",
   "execution_count": 20,
   "outputs": [
    {
     "data": {
      "text/plain": "     sex_df_1                                             name  survived_df_1  \\\n0      female                    Allen, Miss. Elisabeth Walton              1   \n1        male                   Allison, Master. Hudson Trevor              1   \n2      female                     Allison, Miss. Helen Loraine              0   \n3        male             Allison, Mr. Hudson Joshua Creighton              0   \n4      female  Allison, Mrs. Hudson J C (Bessie Waldo Daniels)              0   \n...       ...                                              ...            ...   \n1304   female                             Zabour, Miss. Hileni              0   \n1305   female                            Zabour, Miss. Thamine              0   \n1306     male                        Zakarian, Mr. Mapriededer              0   \n1307     male                              Zakarian, Mr. Ortin              0   \n1308     male                               Zimmerman, Mr. Leo              0   \n\n      pclass  survived_df_2 sex_df_2  \n0          1              1   female  \n1          1              1     male  \n2          1              0   female  \n3          1              0     male  \n4          1              0   female  \n...      ...            ...      ...  \n1304       3              0   female  \n1305       3              0   female  \n1306       3              0     male  \n1307       3              0     male  \n1308       3              0     male  \n\n[1309 rows x 6 columns]",
      "text/html": "<div>\n<style scoped>\n    .dataframe tbody tr th:only-of-type {\n        vertical-align: middle;\n    }\n\n    .dataframe tbody tr th {\n        vertical-align: top;\n    }\n\n    .dataframe thead th {\n        text-align: right;\n    }\n</style>\n<table border=\"1\" class=\"dataframe\">\n  <thead>\n    <tr style=\"text-align: right;\">\n      <th></th>\n      <th>sex_df_1</th>\n      <th>name</th>\n      <th>survived_df_1</th>\n      <th>pclass</th>\n      <th>survived_df_2</th>\n      <th>sex_df_2</th>\n    </tr>\n  </thead>\n  <tbody>\n    <tr>\n      <th>0</th>\n      <td>female</td>\n      <td>Allen, Miss. Elisabeth Walton</td>\n      <td>1</td>\n      <td>1</td>\n      <td>1</td>\n      <td>female</td>\n    </tr>\n    <tr>\n      <th>1</th>\n      <td>male</td>\n      <td>Allison, Master. Hudson Trevor</td>\n      <td>1</td>\n      <td>1</td>\n      <td>1</td>\n      <td>male</td>\n    </tr>\n    <tr>\n      <th>2</th>\n      <td>female</td>\n      <td>Allison, Miss. Helen Loraine</td>\n      <td>0</td>\n      <td>1</td>\n      <td>0</td>\n      <td>female</td>\n    </tr>\n    <tr>\n      <th>3</th>\n      <td>male</td>\n      <td>Allison, Mr. Hudson Joshua Creighton</td>\n      <td>0</td>\n      <td>1</td>\n      <td>0</td>\n      <td>male</td>\n    </tr>\n    <tr>\n      <th>4</th>\n      <td>female</td>\n      <td>Allison, Mrs. Hudson J C (Bessie Waldo Daniels)</td>\n      <td>0</td>\n      <td>1</td>\n      <td>0</td>\n      <td>female</td>\n    </tr>\n    <tr>\n      <th>...</th>\n      <td>...</td>\n      <td>...</td>\n      <td>...</td>\n      <td>...</td>\n      <td>...</td>\n      <td>...</td>\n    </tr>\n    <tr>\n      <th>1304</th>\n      <td>female</td>\n      <td>Zabour, Miss. Hileni</td>\n      <td>0</td>\n      <td>3</td>\n      <td>0</td>\n      <td>female</td>\n    </tr>\n    <tr>\n      <th>1305</th>\n      <td>female</td>\n      <td>Zabour, Miss. Thamine</td>\n      <td>0</td>\n      <td>3</td>\n      <td>0</td>\n      <td>female</td>\n    </tr>\n    <tr>\n      <th>1306</th>\n      <td>male</td>\n      <td>Zakarian, Mr. Mapriededer</td>\n      <td>0</td>\n      <td>3</td>\n      <td>0</td>\n      <td>male</td>\n    </tr>\n    <tr>\n      <th>1307</th>\n      <td>male</td>\n      <td>Zakarian, Mr. Ortin</td>\n      <td>0</td>\n      <td>3</td>\n      <td>0</td>\n      <td>male</td>\n    </tr>\n    <tr>\n      <th>1308</th>\n      <td>male</td>\n      <td>Zimmerman, Mr. Leo</td>\n      <td>0</td>\n      <td>3</td>\n      <td>0</td>\n      <td>male</td>\n    </tr>\n  </tbody>\n</table>\n<p>1309 rows × 6 columns</p>\n</div>"
     },
     "execution_count": 20,
     "metadata": {},
     "output_type": "execute_result"
    }
   ],
   "source": [
    "df_join = df_1.join(df_2, lsuffix='_df_1',rsuffix='_df_2')\n",
    "df_join"
   ],
   "metadata": {
    "collapsed": false,
    "pycharm": {
     "name": "#%%\n"
    }
   }
  },
  {
   "cell_type": "code",
   "execution_count": 31,
   "outputs": [],
   "source": [
    "data1 = df[['sex', 'name', 'survived']]\n",
    "data2 = df[['pclass','age','cabin']]"
   ],
   "metadata": {
    "collapsed": false,
    "pycharm": {
     "name": "#%%\n"
    }
   }
  },
  {
   "cell_type": "code",
   "execution_count": 32,
   "outputs": [
    {
     "data": {
      "text/plain": "      sex                                             name  survived\n0  female                    Allen, Miss. Elisabeth Walton         1\n1    male                   Allison, Master. Hudson Trevor         1\n2  female                     Allison, Miss. Helen Loraine         0\n3    male             Allison, Mr. Hudson Joshua Creighton         0\n4  female  Allison, Mrs. Hudson J C (Bessie Waldo Daniels)         0",
      "text/html": "<div>\n<style scoped>\n    .dataframe tbody tr th:only-of-type {\n        vertical-align: middle;\n    }\n\n    .dataframe tbody tr th {\n        vertical-align: top;\n    }\n\n    .dataframe thead th {\n        text-align: right;\n    }\n</style>\n<table border=\"1\" class=\"dataframe\">\n  <thead>\n    <tr style=\"text-align: right;\">\n      <th></th>\n      <th>sex</th>\n      <th>name</th>\n      <th>survived</th>\n    </tr>\n  </thead>\n  <tbody>\n    <tr>\n      <th>0</th>\n      <td>female</td>\n      <td>Allen, Miss. Elisabeth Walton</td>\n      <td>1</td>\n    </tr>\n    <tr>\n      <th>1</th>\n      <td>male</td>\n      <td>Allison, Master. Hudson Trevor</td>\n      <td>1</td>\n    </tr>\n    <tr>\n      <th>2</th>\n      <td>female</td>\n      <td>Allison, Miss. Helen Loraine</td>\n      <td>0</td>\n    </tr>\n    <tr>\n      <th>3</th>\n      <td>male</td>\n      <td>Allison, Mr. Hudson Joshua Creighton</td>\n      <td>0</td>\n    </tr>\n    <tr>\n      <th>4</th>\n      <td>female</td>\n      <td>Allison, Mrs. Hudson J C (Bessie Waldo Daniels)</td>\n      <td>0</td>\n    </tr>\n  </tbody>\n</table>\n</div>"
     },
     "execution_count": 32,
     "metadata": {},
     "output_type": "execute_result"
    }
   ],
   "source": [
    "data1.head()"
   ],
   "metadata": {
    "collapsed": false,
    "pycharm": {
     "name": "#%%\n"
    }
   }
  },
  {
   "cell_type": "code",
   "execution_count": 33,
   "outputs": [
    {
     "data": {
      "text/plain": "   pclass    age    cabin\n0       1  29.00       B5\n1       1   0.92  C22 C26\n2       1   2.00  C22 C26\n3       1  30.00  C22 C26\n4       1  25.00  C22 C26",
      "text/html": "<div>\n<style scoped>\n    .dataframe tbody tr th:only-of-type {\n        vertical-align: middle;\n    }\n\n    .dataframe tbody tr th {\n        vertical-align: top;\n    }\n\n    .dataframe thead th {\n        text-align: right;\n    }\n</style>\n<table border=\"1\" class=\"dataframe\">\n  <thead>\n    <tr style=\"text-align: right;\">\n      <th></th>\n      <th>pclass</th>\n      <th>age</th>\n      <th>cabin</th>\n    </tr>\n  </thead>\n  <tbody>\n    <tr>\n      <th>0</th>\n      <td>1</td>\n      <td>29.00</td>\n      <td>B5</td>\n    </tr>\n    <tr>\n      <th>1</th>\n      <td>1</td>\n      <td>0.92</td>\n      <td>C22 C26</td>\n    </tr>\n    <tr>\n      <th>2</th>\n      <td>1</td>\n      <td>2.00</td>\n      <td>C22 C26</td>\n    </tr>\n    <tr>\n      <th>3</th>\n      <td>1</td>\n      <td>30.00</td>\n      <td>C22 C26</td>\n    </tr>\n    <tr>\n      <th>4</th>\n      <td>1</td>\n      <td>25.00</td>\n      <td>C22 C26</td>\n    </tr>\n  </tbody>\n</table>\n</div>"
     },
     "execution_count": 33,
     "metadata": {},
     "output_type": "execute_result"
    }
   ],
   "source": [
    "data2.head()"
   ],
   "metadata": {
    "collapsed": false,
    "pycharm": {
     "name": "#%%\n"
    }
   }
  },
  {
   "cell_type": "code",
   "execution_count": 38,
   "outputs": [
    {
     "data": {
      "text/plain": "       data1                                                            data2  \\\n         sex                                             name survived pclass   \n0     female                    Allen, Miss. Elisabeth Walton        1      1   \n1       male                   Allison, Master. Hudson Trevor        1      1   \n2     female                     Allison, Miss. Helen Loraine        0      1   \n3       male             Allison, Mr. Hudson Joshua Creighton        0      1   \n4     female  Allison, Mrs. Hudson J C (Bessie Waldo Daniels)        0      1   \n...      ...                                              ...      ...    ...   \n1304  female                             Zabour, Miss. Hileni        0      3   \n1305  female                            Zabour, Miss. Thamine        0      3   \n1306    male                        Zakarian, Mr. Mapriededer        0      3   \n1307    male                              Zakarian, Mr. Ortin        0      3   \n1308    male                               Zimmerman, Mr. Leo        0      3   \n\n                      \n        age    cabin  \n0     29.00       B5  \n1      0.92  C22 C26  \n2      2.00  C22 C26  \n3     30.00  C22 C26  \n4     25.00  C22 C26  \n...     ...      ...  \n1304  14.50      NaN  \n1305    NaN      NaN  \n1306  26.50      NaN  \n1307  27.00      NaN  \n1308  29.00      NaN  \n\n[1309 rows x 6 columns]",
      "text/html": "<div>\n<style scoped>\n    .dataframe tbody tr th:only-of-type {\n        vertical-align: middle;\n    }\n\n    .dataframe tbody tr th {\n        vertical-align: top;\n    }\n\n    .dataframe thead tr th {\n        text-align: left;\n    }\n</style>\n<table border=\"1\" class=\"dataframe\">\n  <thead>\n    <tr>\n      <th></th>\n      <th colspan=\"3\" halign=\"left\">data1</th>\n      <th colspan=\"3\" halign=\"left\">data2</th>\n    </tr>\n    <tr>\n      <th></th>\n      <th>sex</th>\n      <th>name</th>\n      <th>survived</th>\n      <th>pclass</th>\n      <th>age</th>\n      <th>cabin</th>\n    </tr>\n  </thead>\n  <tbody>\n    <tr>\n      <th>0</th>\n      <td>female</td>\n      <td>Allen, Miss. Elisabeth Walton</td>\n      <td>1</td>\n      <td>1</td>\n      <td>29.00</td>\n      <td>B5</td>\n    </tr>\n    <tr>\n      <th>1</th>\n      <td>male</td>\n      <td>Allison, Master. Hudson Trevor</td>\n      <td>1</td>\n      <td>1</td>\n      <td>0.92</td>\n      <td>C22 C26</td>\n    </tr>\n    <tr>\n      <th>2</th>\n      <td>female</td>\n      <td>Allison, Miss. Helen Loraine</td>\n      <td>0</td>\n      <td>1</td>\n      <td>2.00</td>\n      <td>C22 C26</td>\n    </tr>\n    <tr>\n      <th>3</th>\n      <td>male</td>\n      <td>Allison, Mr. Hudson Joshua Creighton</td>\n      <td>0</td>\n      <td>1</td>\n      <td>30.00</td>\n      <td>C22 C26</td>\n    </tr>\n    <tr>\n      <th>4</th>\n      <td>female</td>\n      <td>Allison, Mrs. Hudson J C (Bessie Waldo Daniels)</td>\n      <td>0</td>\n      <td>1</td>\n      <td>25.00</td>\n      <td>C22 C26</td>\n    </tr>\n    <tr>\n      <th>...</th>\n      <td>...</td>\n      <td>...</td>\n      <td>...</td>\n      <td>...</td>\n      <td>...</td>\n      <td>...</td>\n    </tr>\n    <tr>\n      <th>1304</th>\n      <td>female</td>\n      <td>Zabour, Miss. Hileni</td>\n      <td>0</td>\n      <td>3</td>\n      <td>14.50</td>\n      <td>NaN</td>\n    </tr>\n    <tr>\n      <th>1305</th>\n      <td>female</td>\n      <td>Zabour, Miss. Thamine</td>\n      <td>0</td>\n      <td>3</td>\n      <td>NaN</td>\n      <td>NaN</td>\n    </tr>\n    <tr>\n      <th>1306</th>\n      <td>male</td>\n      <td>Zakarian, Mr. Mapriededer</td>\n      <td>0</td>\n      <td>3</td>\n      <td>26.50</td>\n      <td>NaN</td>\n    </tr>\n    <tr>\n      <th>1307</th>\n      <td>male</td>\n      <td>Zakarian, Mr. Ortin</td>\n      <td>0</td>\n      <td>3</td>\n      <td>27.00</td>\n      <td>NaN</td>\n    </tr>\n    <tr>\n      <th>1308</th>\n      <td>male</td>\n      <td>Zimmerman, Mr. Leo</td>\n      <td>0</td>\n      <td>3</td>\n      <td>29.00</td>\n      <td>NaN</td>\n    </tr>\n  </tbody>\n</table>\n<p>1309 rows × 6 columns</p>\n</div>"
     },
     "execution_count": 38,
     "metadata": {},
     "output_type": "execute_result"
    }
   ],
   "source": [
    "pd.concat([data1,data2],axis=1,join='outer',keys=['data1','data2'])"
   ],
   "metadata": {
    "collapsed": false,
    "pycharm": {
     "name": "#%%\n"
    }
   }
  },
  {
   "cell_type": "code",
   "execution_count": 40,
   "outputs": [
    {
     "data": {
      "text/plain": "       data1                                                            data2  \\\n         sex                                             name survived pclass   \n0     female                    Allen, Miss. Elisabeth Walton        1      1   \n1       male                   Allison, Master. Hudson Trevor        1      1   \n2     female                     Allison, Miss. Helen Loraine        0      1   \n3       male             Allison, Mr. Hudson Joshua Creighton        0      1   \n4     female  Allison, Mrs. Hudson J C (Bessie Waldo Daniels)        0      1   \n...      ...                                              ...      ...    ...   \n1304  female                             Zabour, Miss. Hileni        0      3   \n1305  female                            Zabour, Miss. Thamine        0      3   \n1306    male                        Zakarian, Mr. Mapriededer        0      3   \n1307    male                              Zakarian, Mr. Ortin        0      3   \n1308    male                               Zimmerman, Mr. Leo        0      3   \n\n                      \n        age    cabin  \n0     29.00       B5  \n1      0.92  C22 C26  \n2      2.00  C22 C26  \n3     30.00  C22 C26  \n4     25.00  C22 C26  \n...     ...      ...  \n1304  14.50      NaN  \n1305    NaN      NaN  \n1306  26.50      NaN  \n1307  27.00      NaN  \n1308  29.00      NaN  \n\n[1309 rows x 6 columns]",
      "text/html": "<div>\n<style scoped>\n    .dataframe tbody tr th:only-of-type {\n        vertical-align: middle;\n    }\n\n    .dataframe tbody tr th {\n        vertical-align: top;\n    }\n\n    .dataframe thead tr th {\n        text-align: left;\n    }\n</style>\n<table border=\"1\" class=\"dataframe\">\n  <thead>\n    <tr>\n      <th></th>\n      <th colspan=\"3\" halign=\"left\">data1</th>\n      <th colspan=\"3\" halign=\"left\">data2</th>\n    </tr>\n    <tr>\n      <th></th>\n      <th>sex</th>\n      <th>name</th>\n      <th>survived</th>\n      <th>pclass</th>\n      <th>age</th>\n      <th>cabin</th>\n    </tr>\n  </thead>\n  <tbody>\n    <tr>\n      <th>0</th>\n      <td>female</td>\n      <td>Allen, Miss. Elisabeth Walton</td>\n      <td>1</td>\n      <td>1</td>\n      <td>29.00</td>\n      <td>B5</td>\n    </tr>\n    <tr>\n      <th>1</th>\n      <td>male</td>\n      <td>Allison, Master. Hudson Trevor</td>\n      <td>1</td>\n      <td>1</td>\n      <td>0.92</td>\n      <td>C22 C26</td>\n    </tr>\n    <tr>\n      <th>2</th>\n      <td>female</td>\n      <td>Allison, Miss. Helen Loraine</td>\n      <td>0</td>\n      <td>1</td>\n      <td>2.00</td>\n      <td>C22 C26</td>\n    </tr>\n    <tr>\n      <th>3</th>\n      <td>male</td>\n      <td>Allison, Mr. Hudson Joshua Creighton</td>\n      <td>0</td>\n      <td>1</td>\n      <td>30.00</td>\n      <td>C22 C26</td>\n    </tr>\n    <tr>\n      <th>4</th>\n      <td>female</td>\n      <td>Allison, Mrs. Hudson J C (Bessie Waldo Daniels)</td>\n      <td>0</td>\n      <td>1</td>\n      <td>25.00</td>\n      <td>C22 C26</td>\n    </tr>\n    <tr>\n      <th>...</th>\n      <td>...</td>\n      <td>...</td>\n      <td>...</td>\n      <td>...</td>\n      <td>...</td>\n      <td>...</td>\n    </tr>\n    <tr>\n      <th>1304</th>\n      <td>female</td>\n      <td>Zabour, Miss. Hileni</td>\n      <td>0</td>\n      <td>3</td>\n      <td>14.50</td>\n      <td>NaN</td>\n    </tr>\n    <tr>\n      <th>1305</th>\n      <td>female</td>\n      <td>Zabour, Miss. Thamine</td>\n      <td>0</td>\n      <td>3</td>\n      <td>NaN</td>\n      <td>NaN</td>\n    </tr>\n    <tr>\n      <th>1306</th>\n      <td>male</td>\n      <td>Zakarian, Mr. Mapriededer</td>\n      <td>0</td>\n      <td>3</td>\n      <td>26.50</td>\n      <td>NaN</td>\n    </tr>\n    <tr>\n      <th>1307</th>\n      <td>male</td>\n      <td>Zakarian, Mr. Ortin</td>\n      <td>0</td>\n      <td>3</td>\n      <td>27.00</td>\n      <td>NaN</td>\n    </tr>\n    <tr>\n      <th>1308</th>\n      <td>male</td>\n      <td>Zimmerman, Mr. Leo</td>\n      <td>0</td>\n      <td>3</td>\n      <td>29.00</td>\n      <td>NaN</td>\n    </tr>\n  </tbody>\n</table>\n<p>1309 rows × 6 columns</p>\n</div>"
     },
     "execution_count": 40,
     "metadata": {},
     "output_type": "execute_result"
    }
   ],
   "source": [
    "pd.concat([data1,data2],axis=1,join='inner',keys=['data1','data2'],sort=True)"
   ],
   "metadata": {
    "collapsed": false,
    "pycharm": {
     "name": "#%%\n"
    }
   }
  },
  {
   "cell_type": "code",
   "execution_count": 41,
   "outputs": [
    {
     "data": {
      "text/plain": "                                                        pclass  survived  \\\nsex    name                                                                \nfemale Allen, Miss. Elisabeth Walton                         1         1   \nmale   Allison, Master. Hudson Trevor                        1         1   \nfemale Allison, Miss. Helen Loraine                          1         0   \nmale   Allison, Mr. Hudson Joshua Creighton                  1         0   \nfemale Allison, Mrs. Hudson J C (Bessie Waldo Daniels)       1         0   \n...                                                        ...       ...   \n       Zabour, Miss. Hileni                                  3         0   \n       Zabour, Miss. Thamine                                 3         0   \nmale   Zakarian, Mr. Mapriededer                             3         0   \n       Zakarian, Mr. Ortin                                   3         0   \n       Zimmerman, Mr. Leo                                    3         0   \n\n                                                          age  sibsp  parch  \\\nsex    name                                                                   \nfemale Allen, Miss. Elisabeth Walton                    29.00      0      0   \nmale   Allison, Master. Hudson Trevor                    0.92      1      2   \nfemale Allison, Miss. Helen Loraine                      2.00      1      2   \nmale   Allison, Mr. Hudson Joshua Creighton             30.00      1      2   \nfemale Allison, Mrs. Hudson J C (Bessie Waldo Daniels)  25.00      1      2   \n...                                                       ...    ...    ...   \n       Zabour, Miss. Hileni                             14.50      1      0   \n       Zabour, Miss. Thamine                              NaN      1      0   \nmale   Zakarian, Mr. Mapriededer                        26.50      0      0   \n       Zakarian, Mr. Ortin                              27.00      0      0   \n       Zimmerman, Mr. Leo                               29.00      0      0   \n\n                                                        ticket      fare  \\\nsex    name                                                                \nfemale Allen, Miss. Elisabeth Walton                     24160  211.3375   \nmale   Allison, Master. Hudson Trevor                   113781  151.5500   \nfemale Allison, Miss. Helen Loraine                     113781  151.5500   \nmale   Allison, Mr. Hudson Joshua Creighton             113781  151.5500   \nfemale Allison, Mrs. Hudson J C (Bessie Waldo Daniels)  113781  151.5500   \n...                                                        ...       ...   \n       Zabour, Miss. Hileni                               2665   14.4542   \n       Zabour, Miss. Thamine                              2665   14.4542   \nmale   Zakarian, Mr. Mapriededer                          2656    7.2250   \n       Zakarian, Mr. Ortin                                2670    7.2250   \n       Zimmerman, Mr. Leo                               315082    7.8750   \n\n                                                          cabin embarked boat  \\\nsex    name                                                                     \nfemale Allen, Miss. Elisabeth Walton                         B5        S    2   \nmale   Allison, Master. Hudson Trevor                   C22 C26        S   11   \nfemale Allison, Miss. Helen Loraine                     C22 C26        S  NaN   \nmale   Allison, Mr. Hudson Joshua Creighton             C22 C26        S  NaN   \nfemale Allison, Mrs. Hudson J C (Bessie Waldo Daniels)  C22 C26        S  NaN   \n...                                                         ...      ...  ...   \n       Zabour, Miss. Hileni                                 NaN        C  NaN   \n       Zabour, Miss. Thamine                                NaN        C  NaN   \nmale   Zakarian, Mr. Mapriededer                            NaN        C  NaN   \n       Zakarian, Mr. Ortin                                  NaN        C  NaN   \n       Zimmerman, Mr. Leo                                   NaN        S  NaN   \n\n                                                         body  \\\nsex    name                                                     \nfemale Allen, Miss. Elisabeth Walton                      NaN   \nmale   Allison, Master. Hudson Trevor                     NaN   \nfemale Allison, Miss. Helen Loraine                       NaN   \nmale   Allison, Mr. Hudson Joshua Creighton             135.0   \nfemale Allison, Mrs. Hudson J C (Bessie Waldo Daniels)    NaN   \n...                                                       ...   \n       Zabour, Miss. Hileni                             328.0   \n       Zabour, Miss. Thamine                              NaN   \nmale   Zakarian, Mr. Mapriededer                        304.0   \n       Zakarian, Mr. Ortin                                NaN   \n       Zimmerman, Mr. Leo                                 NaN   \n\n                                                                              home.dest  \nsex    name                                                                              \nfemale Allen, Miss. Elisabeth Walton                                       St Louis, MO  \nmale   Allison, Master. Hudson Trevor                   Montreal, PQ / Chesterville, ON  \nfemale Allison, Miss. Helen Loraine                     Montreal, PQ / Chesterville, ON  \nmale   Allison, Mr. Hudson Joshua Creighton             Montreal, PQ / Chesterville, ON  \nfemale Allison, Mrs. Hudson J C (Bessie Waldo Daniels)  Montreal, PQ / Chesterville, ON  \n...                                                                                 ...  \n       Zabour, Miss. Hileni                                                         NaN  \n       Zabour, Miss. Thamine                                                        NaN  \nmale   Zakarian, Mr. Mapriededer                                                    NaN  \n       Zakarian, Mr. Ortin                                                          NaN  \n       Zimmerman, Mr. Leo                                                           NaN  \n\n[1309 rows x 12 columns]",
      "text/html": "<div>\n<style scoped>\n    .dataframe tbody tr th:only-of-type {\n        vertical-align: middle;\n    }\n\n    .dataframe tbody tr th {\n        vertical-align: top;\n    }\n\n    .dataframe thead th {\n        text-align: right;\n    }\n</style>\n<table border=\"1\" class=\"dataframe\">\n  <thead>\n    <tr style=\"text-align: right;\">\n      <th></th>\n      <th></th>\n      <th>pclass</th>\n      <th>survived</th>\n      <th>age</th>\n      <th>sibsp</th>\n      <th>parch</th>\n      <th>ticket</th>\n      <th>fare</th>\n      <th>cabin</th>\n      <th>embarked</th>\n      <th>boat</th>\n      <th>body</th>\n      <th>home.dest</th>\n    </tr>\n    <tr>\n      <th>sex</th>\n      <th>name</th>\n      <th></th>\n      <th></th>\n      <th></th>\n      <th></th>\n      <th></th>\n      <th></th>\n      <th></th>\n      <th></th>\n      <th></th>\n      <th></th>\n      <th></th>\n      <th></th>\n    </tr>\n  </thead>\n  <tbody>\n    <tr>\n      <th>female</th>\n      <th>Allen, Miss. Elisabeth Walton</th>\n      <td>1</td>\n      <td>1</td>\n      <td>29.00</td>\n      <td>0</td>\n      <td>0</td>\n      <td>24160</td>\n      <td>211.3375</td>\n      <td>B5</td>\n      <td>S</td>\n      <td>2</td>\n      <td>NaN</td>\n      <td>St Louis, MO</td>\n    </tr>\n    <tr>\n      <th>male</th>\n      <th>Allison, Master. Hudson Trevor</th>\n      <td>1</td>\n      <td>1</td>\n      <td>0.92</td>\n      <td>1</td>\n      <td>2</td>\n      <td>113781</td>\n      <td>151.5500</td>\n      <td>C22 C26</td>\n      <td>S</td>\n      <td>11</td>\n      <td>NaN</td>\n      <td>Montreal, PQ / Chesterville, ON</td>\n    </tr>\n    <tr>\n      <th>female</th>\n      <th>Allison, Miss. Helen Loraine</th>\n      <td>1</td>\n      <td>0</td>\n      <td>2.00</td>\n      <td>1</td>\n      <td>2</td>\n      <td>113781</td>\n      <td>151.5500</td>\n      <td>C22 C26</td>\n      <td>S</td>\n      <td>NaN</td>\n      <td>NaN</td>\n      <td>Montreal, PQ / Chesterville, ON</td>\n    </tr>\n    <tr>\n      <th>male</th>\n      <th>Allison, Mr. Hudson Joshua Creighton</th>\n      <td>1</td>\n      <td>0</td>\n      <td>30.00</td>\n      <td>1</td>\n      <td>2</td>\n      <td>113781</td>\n      <td>151.5500</td>\n      <td>C22 C26</td>\n      <td>S</td>\n      <td>NaN</td>\n      <td>135.0</td>\n      <td>Montreal, PQ / Chesterville, ON</td>\n    </tr>\n    <tr>\n      <th rowspan=\"4\" valign=\"top\">female</th>\n      <th>Allison, Mrs. Hudson J C (Bessie Waldo Daniels)</th>\n      <td>1</td>\n      <td>0</td>\n      <td>25.00</td>\n      <td>1</td>\n      <td>2</td>\n      <td>113781</td>\n      <td>151.5500</td>\n      <td>C22 C26</td>\n      <td>S</td>\n      <td>NaN</td>\n      <td>NaN</td>\n      <td>Montreal, PQ / Chesterville, ON</td>\n    </tr>\n    <tr>\n      <th>...</th>\n      <td>...</td>\n      <td>...</td>\n      <td>...</td>\n      <td>...</td>\n      <td>...</td>\n      <td>...</td>\n      <td>...</td>\n      <td>...</td>\n      <td>...</td>\n      <td>...</td>\n      <td>...</td>\n      <td>...</td>\n    </tr>\n    <tr>\n      <th>Zabour, Miss. Hileni</th>\n      <td>3</td>\n      <td>0</td>\n      <td>14.50</td>\n      <td>1</td>\n      <td>0</td>\n      <td>2665</td>\n      <td>14.4542</td>\n      <td>NaN</td>\n      <td>C</td>\n      <td>NaN</td>\n      <td>328.0</td>\n      <td>NaN</td>\n    </tr>\n    <tr>\n      <th>Zabour, Miss. Thamine</th>\n      <td>3</td>\n      <td>0</td>\n      <td>NaN</td>\n      <td>1</td>\n      <td>0</td>\n      <td>2665</td>\n      <td>14.4542</td>\n      <td>NaN</td>\n      <td>C</td>\n      <td>NaN</td>\n      <td>NaN</td>\n      <td>NaN</td>\n    </tr>\n    <tr>\n      <th rowspan=\"3\" valign=\"top\">male</th>\n      <th>Zakarian, Mr. Mapriededer</th>\n      <td>3</td>\n      <td>0</td>\n      <td>26.50</td>\n      <td>0</td>\n      <td>0</td>\n      <td>2656</td>\n      <td>7.2250</td>\n      <td>NaN</td>\n      <td>C</td>\n      <td>NaN</td>\n      <td>304.0</td>\n      <td>NaN</td>\n    </tr>\n    <tr>\n      <th>Zakarian, Mr. Ortin</th>\n      <td>3</td>\n      <td>0</td>\n      <td>27.00</td>\n      <td>0</td>\n      <td>0</td>\n      <td>2670</td>\n      <td>7.2250</td>\n      <td>NaN</td>\n      <td>C</td>\n      <td>NaN</td>\n      <td>NaN</td>\n      <td>NaN</td>\n    </tr>\n    <tr>\n      <th>Zimmerman, Mr. Leo</th>\n      <td>3</td>\n      <td>0</td>\n      <td>29.00</td>\n      <td>0</td>\n      <td>0</td>\n      <td>315082</td>\n      <td>7.8750</td>\n      <td>NaN</td>\n      <td>S</td>\n      <td>NaN</td>\n      <td>NaN</td>\n      <td>NaN</td>\n    </tr>\n  </tbody>\n</table>\n<p>1309 rows × 12 columns</p>\n</div>"
     },
     "execution_count": 41,
     "metadata": {},
     "output_type": "execute_result"
    }
   ],
   "source": [
    "df_reindex = df.set_index(['sex','name'])\n",
    "df_reindex"
   ],
   "metadata": {
    "collapsed": false,
    "pycharm": {
     "name": "#%%\n"
    }
   }
  },
  {
   "cell_type": "code",
   "execution_count": 42,
   "outputs": [
    {
     "data": {
      "text/plain": "sex     name                                   \nfemale  Allen, Miss. Elisabeth Walton  pclass           1\n                                       survived         1\n                                       age           29.0\n                                       sibsp            0\n                                       parch            0\n                                                    ...  \nmale    Zimmerman, Mr. Leo             sibsp            0\n                                       parch            0\n                                       ticket      315082\n                                       fare         7.875\n                                       embarked         S\nLength: 11853, dtype: object"
     },
     "execution_count": 42,
     "metadata": {},
     "output_type": "execute_result"
    }
   ],
   "source": [
    "df_reindex.stack()"
   ],
   "metadata": {
    "collapsed": false,
    "pycharm": {
     "name": "#%%\n"
    }
   }
  }
 ],
 "metadata": {
  "kernelspec": {
   "display_name": "Python 3",
   "language": "python",
   "name": "python3"
  },
  "language_info": {
   "codemirror_mode": {
    "name": "ipython",
    "version": 3
   },
   "file_extension": ".py",
   "mimetype": "text/x-python",
   "name": "python",
   "nbconvert_exporter": "python",
   "pygments_lexer": "ipython3",
   "version": "3.7.4"
  }
 },
 "nbformat": 4,
 "nbformat_minor": 2
}
