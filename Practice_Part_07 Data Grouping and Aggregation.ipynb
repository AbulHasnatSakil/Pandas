{
 "cells": [
  {
   "cell_type": "markdown",
   "metadata": {},
   "source": [
    "# Practice_Part_07: Data Grouping and Aggregation"
   ]
  },
  {
   "cell_type": "code",
   "execution_count": 42,
   "metadata": {},
   "outputs": [],
   "source": [
    "import pandas as pd"
   ]
  },
  {
   "cell_type": "markdown",
   "metadata": {},
   "source": [
    "#### Exercise_01\n",
    "For the titanic data present in 'data/titanic':\n",
    "1. Group the titanic data based on 'sex' column and find the mean age of the male and female passengers\n",
    "2. Use the indexing method to find the mean age istead of using the groupby method\n",
    "3. Group the data based on 'sex' column, and find the number of male and female passengers survived\n",
    "4. Count the number of passengers survived and not-survived based on the gender, and cross check the result\n",
    "5. Group the data based on the column 'sex' and iterate over the key and data "
   ]
  },
  {
   "cell_type": "code",
   "metadata": {
    "pycharm": {
     "name": "#%%\n"
    }
   },
   "source": [
    "df = pd.read_csv('data/titanic/original_titanic.csv')\n",
    "df"
   ],
   "execution_count": null,
   "outputs": []
  },
  {
   "cell_type": "code",
   "execution_count": 44,
   "outputs": [
    {
     "data": {
      "text/plain": "<pandas.core.groupby.generic.SeriesGroupBy object at 0x0000020602413730>"
     },
     "execution_count": 44,
     "metadata": {},
     "output_type": "execute_result"
    }
   ],
   "source": [
    "group = df['age'].groupby(by=df['sex'])\n",
    "group"
   ],
   "metadata": {
    "collapsed": false,
    "pycharm": {
     "name": "#%%\n"
    }
   }
  },
  {
   "cell_type": "code",
   "execution_count": 45,
   "outputs": [
    {
     "data": {
      "text/plain": "sex\nfemale    28.687088\nmale      30.585228\nName: age, dtype: float64"
     },
     "execution_count": 45,
     "metadata": {},
     "output_type": "execute_result"
    }
   ],
   "source": [
    "group.mean()"
   ],
   "metadata": {
    "collapsed": false,
    "pycharm": {
     "name": "#%%\n"
    }
   }
  },
  {
   "cell_type": "code",
   "execution_count": 46,
   "outputs": [
    {
     "data": {
      "text/plain": "30.58522796352583"
     },
     "execution_count": 46,
     "metadata": {},
     "output_type": "execute_result"
    }
   ],
   "source": [
    "df['age'][df['sex']=='male'].mean()"
   ],
   "metadata": {
    "collapsed": false,
    "pycharm": {
     "name": "#%%\n"
    }
   }
  },
  {
   "cell_type": "code",
   "execution_count": 47,
   "outputs": [
    {
     "data": {
      "text/plain": "28.68708762886598"
     },
     "execution_count": 47,
     "metadata": {},
     "output_type": "execute_result"
    }
   ],
   "source": [
    "df['age'][df['sex']=='female'].mean()"
   ],
   "metadata": {
    "collapsed": false,
    "pycharm": {
     "name": "#%%\n"
    }
   }
  },
  {
   "cell_type": "code",
   "execution_count": 48,
   "outputs": [
    {
     "data": {
      "text/plain": "<pandas.core.groupby.generic.SeriesGroupBy object at 0x0000020602413F40>"
     },
     "execution_count": 48,
     "metadata": {},
     "output_type": "execute_result"
    }
   ],
   "source": [
    "g_sex_age=df['survived'].groupby(by=df['sex'])\n",
    "g_sex_age"
   ],
   "metadata": {
    "collapsed": false,
    "pycharm": {
     "name": "#%%\n"
    }
   }
  },
  {
   "cell_type": "code",
   "execution_count": 49,
   "outputs": [
    {
     "data": {
      "text/plain": "sex\nfemale    339\nmale      161\nName: survived, dtype: int64"
     },
     "execution_count": 49,
     "metadata": {},
     "output_type": "execute_result"
    }
   ],
   "source": [
    "g_sex_age.sum()"
   ],
   "metadata": {
    "collapsed": false,
    "pycharm": {
     "name": "#%%\n"
    }
   }
  },
  {
   "cell_type": "code",
   "execution_count": 50,
   "outputs": [
    {
     "data": {
      "text/plain": "sex     survived\nfemale  0           127\n        1           339\nmale    0           682\n        1           161\ndtype: int64"
     },
     "execution_count": 50,
     "metadata": {},
     "output_type": "execute_result"
    }
   ],
   "source": [
    "df.groupby(by=['sex','survived']).size()"
   ],
   "metadata": {
    "collapsed": false,
    "pycharm": {
     "name": "#%%\n"
    }
   }
  },
  {
   "cell_type": "code",
   "execution_count": 51,
   "outputs": [
    {
     "name": "stdout",
     "output_type": "stream",
     "text": [
      "female\n",
      "      pclass  survived                                             name  \\\n",
      "0          1         1                    Allen, Miss. Elisabeth Walton   \n",
      "2          1         0                     Allison, Miss. Helen Loraine   \n",
      "4          1         0  Allison, Mrs. Hudson J C (Bessie Waldo Daniels)   \n",
      "6          1         1                Andrews, Miss. Kornelia Theodosia   \n",
      "8          1         1    Appleton, Mrs. Edward Dale (Charlotte Lamson)   \n",
      "...      ...       ...                                              ...   \n",
      "1286       3         1  Whabee, Mrs. George Joseph (Shawneene Abi-Saab)   \n",
      "1290       3         1                 Wilkes, Mrs. James (Ellen Needs)   \n",
      "1300       3         1          Yasbeck, Mrs. Antoni (Selini Alexander)   \n",
      "1304       3         0                             Zabour, Miss. Hileni   \n",
      "1305       3         0                            Zabour, Miss. Thamine   \n",
      "\n",
      "         sex   age  sibsp  parch  ticket      fare    cabin embarked boat  \\\n",
      "0     female  29.0      0      0   24160  211.3375       B5        S    2   \n",
      "2     female   2.0      1      2  113781  151.5500  C22 C26        S  NaN   \n",
      "4     female  25.0      1      2  113781  151.5500  C22 C26        S  NaN   \n",
      "6     female  63.0      1      0   13502   77.9583       D7        S   10   \n",
      "8     female  53.0      2      0   11769   51.4792     C101        S    D   \n",
      "...      ...   ...    ...    ...     ...       ...      ...      ...  ...   \n",
      "1286  female  38.0      0      0    2688    7.2292      NaN        C    C   \n",
      "1290  female  47.0      1      0  363272    7.0000      NaN        S  NaN   \n",
      "1300  female  15.0      1      0    2659   14.4542      NaN        C  NaN   \n",
      "1304  female  14.5      1      0    2665   14.4542      NaN        C  NaN   \n",
      "1305  female   NaN      1      0    2665   14.4542      NaN        C  NaN   \n",
      "\n",
      "       body                        home.dest  \n",
      "0       NaN                     St Louis, MO  \n",
      "2       NaN  Montreal, PQ / Chesterville, ON  \n",
      "4       NaN  Montreal, PQ / Chesterville, ON  \n",
      "6       NaN                       Hudson, NY  \n",
      "8       NaN              Bayside, Queens, NY  \n",
      "...     ...                              ...  \n",
      "1286    NaN                              NaN  \n",
      "1290    NaN                              NaN  \n",
      "1300    NaN                              NaN  \n",
      "1304  328.0                              NaN  \n",
      "1305    NaN                              NaN  \n",
      "\n",
      "[466 rows x 14 columns]\n",
      "male\n",
      "      pclass  survived                                  name   sex    age  \\\n",
      "1          1         1        Allison, Master. Hudson Trevor  male   0.92   \n",
      "3          1         0  Allison, Mr. Hudson Joshua Creighton  male  30.00   \n",
      "5          1         1                   Anderson, Mr. Harry  male  48.00   \n",
      "7          1         0                Andrews, Mr. Thomas Jr  male  39.00   \n",
      "9          1         0               Artagaveytia, Mr. Ramon  male  71.00   \n",
      "...      ...       ...                                   ...   ...    ...   \n",
      "1302       3         0                     Yousif, Mr. Wazli  male    NaN   \n",
      "1303       3         0                 Yousseff, Mr. Gerious  male    NaN   \n",
      "1306       3         0             Zakarian, Mr. Mapriededer  male  26.50   \n",
      "1307       3         0                   Zakarian, Mr. Ortin  male  27.00   \n",
      "1308       3         0                    Zimmerman, Mr. Leo  male  29.00   \n",
      "\n",
      "      sibsp  parch    ticket      fare    cabin embarked boat   body  \\\n",
      "1         1      2    113781  151.5500  C22 C26        S   11    NaN   \n",
      "3         1      2    113781  151.5500  C22 C26        S  NaN  135.0   \n",
      "5         0      0     19952   26.5500      E12        S    3    NaN   \n",
      "7         0      0    112050    0.0000      A36        S  NaN    NaN   \n",
      "9         0      0  PC 17609   49.5042      NaN        C  NaN   22.0   \n",
      "...     ...    ...       ...       ...      ...      ...  ...    ...   \n",
      "1302      0      0      2647    7.2250      NaN        C  NaN    NaN   \n",
      "1303      0      0      2627   14.4583      NaN        C  NaN    NaN   \n",
      "1306      0      0      2656    7.2250      NaN        C  NaN  304.0   \n",
      "1307      0      0      2670    7.2250      NaN        C  NaN    NaN   \n",
      "1308      0      0    315082    7.8750      NaN        S  NaN    NaN   \n",
      "\n",
      "                            home.dest  \n",
      "1     Montreal, PQ / Chesterville, ON  \n",
      "3     Montreal, PQ / Chesterville, ON  \n",
      "5                        New York, NY  \n",
      "7                         Belfast, NI  \n",
      "9                 Montevideo, Uruguay  \n",
      "...                               ...  \n",
      "1302                              NaN  \n",
      "1303                              NaN  \n",
      "1306                              NaN  \n",
      "1307                              NaN  \n",
      "1308                              NaN  \n",
      "\n",
      "[843 rows x 14 columns]\n"
     ]
    }
   ],
   "source": [
    "grouped = df.groupby(by='sex')\n",
    "for key,data in grouped:\n",
    "    print(key)\n",
    "    print(data)"
   ],
   "metadata": {
    "collapsed": false,
    "pycharm": {
     "name": "#%%\n"
    }
   }
  },
  {
   "cell_type": "markdown",
   "metadata": {},
   "source": [
    "#### Exercise_02\n",
    "1. Group the titanic data along the column, and iterate over the key and data \n",
    "2. Group the titanic data based on ['pclass', 'survived', 'sex'] and count the number of passengers survived on each type of 'pclass'\n",
    "3. Use the 'survived' data as the list of values to find the total number of passengers survived using groupby method\n",
    "4. Group the titanic data based on ['sex', 'name'] and find the total number of people survived\n",
    "5. Find the most used type of 'embarked' by the passengers\n",
    "6. Find the maximum age and the maximum pclass type\n",
    "7. Find the top 'cabins' in the titanic ship using describe method on the column 'cabin'"
   ]
  },
  {
   "cell_type": "code",
   "execution_count": 52,
   "outputs": [
    {
     "name": "stdout",
     "output_type": "stream",
     "text": [
      "int64\n",
      "      pclass  survived  sibsp  parch\n",
      "0          1         1      0      0\n",
      "1          1         1      1      2\n",
      "2          1         0      1      2\n",
      "3          1         0      1      2\n",
      "4          1         0      1      2\n",
      "...      ...       ...    ...    ...\n",
      "1304       3         0      1      0\n",
      "1305       3         0      1      0\n",
      "1306       3         0      0      0\n",
      "1307       3         0      0      0\n",
      "1308       3         0      0      0\n",
      "\n",
      "[1309 rows x 4 columns]\n",
      "float64\n",
      "        age      fare   body\n",
      "0     29.00  211.3375    NaN\n",
      "1      0.92  151.5500    NaN\n",
      "2      2.00  151.5500    NaN\n",
      "3     30.00  151.5500  135.0\n",
      "4     25.00  151.5500    NaN\n",
      "...     ...       ...    ...\n",
      "1304  14.50   14.4542  328.0\n",
      "1305    NaN   14.4542    NaN\n",
      "1306  26.50    7.2250  304.0\n",
      "1307  27.00    7.2250    NaN\n",
      "1308  29.00    7.8750    NaN\n",
      "\n",
      "[1309 rows x 3 columns]\n",
      "object\n",
      "                                                 name     sex  ticket  \\\n",
      "0                       Allen, Miss. Elisabeth Walton  female   24160   \n",
      "1                      Allison, Master. Hudson Trevor    male  113781   \n",
      "2                        Allison, Miss. Helen Loraine  female  113781   \n",
      "3                Allison, Mr. Hudson Joshua Creighton    male  113781   \n",
      "4     Allison, Mrs. Hudson J C (Bessie Waldo Daniels)  female  113781   \n",
      "...                                               ...     ...     ...   \n",
      "1304                             Zabour, Miss. Hileni  female    2665   \n",
      "1305                            Zabour, Miss. Thamine  female    2665   \n",
      "1306                        Zakarian, Mr. Mapriededer    male    2656   \n",
      "1307                              Zakarian, Mr. Ortin    male    2670   \n",
      "1308                               Zimmerman, Mr. Leo    male  315082   \n",
      "\n",
      "        cabin embarked boat                        home.dest  \n",
      "0          B5        S    2                     St Louis, MO  \n",
      "1     C22 C26        S   11  Montreal, PQ / Chesterville, ON  \n",
      "2     C22 C26        S  NaN  Montreal, PQ / Chesterville, ON  \n",
      "3     C22 C26        S  NaN  Montreal, PQ / Chesterville, ON  \n",
      "4     C22 C26        S  NaN  Montreal, PQ / Chesterville, ON  \n",
      "...       ...      ...  ...                              ...  \n",
      "1304      NaN        C  NaN                              NaN  \n",
      "1305      NaN        C  NaN                              NaN  \n",
      "1306      NaN        C  NaN                              NaN  \n",
      "1307      NaN        C  NaN                              NaN  \n",
      "1308      NaN        S  NaN                              NaN  \n",
      "\n",
      "[1309 rows x 7 columns]\n"
     ]
    }
   ],
   "source": [
    "for datatype,data in df.groupby(by=df.dtypes, axis=1):\n",
    "    print(datatype)\n",
    "    print(data)"
   ],
   "metadata": {
    "collapsed": false,
    "pycharm": {
     "name": "#%%\n"
    }
   }
  },
  {
   "cell_type": "code",
   "execution_count": 53,
   "metadata": {},
   "outputs": [
    {
     "data": {
      "text/plain": "        survived\npclass          \n1            200\n2            119\n3            181",
      "text/html": "<div>\n<style scoped>\n    .dataframe tbody tr th:only-of-type {\n        vertical-align: middle;\n    }\n\n    .dataframe tbody tr th {\n        vertical-align: top;\n    }\n\n    .dataframe thead th {\n        text-align: right;\n    }\n</style>\n<table border=\"1\" class=\"dataframe\">\n  <thead>\n    <tr style=\"text-align: right;\">\n      <th></th>\n      <th>survived</th>\n    </tr>\n    <tr>\n      <th>pclass</th>\n      <th></th>\n    </tr>\n  </thead>\n  <tbody>\n    <tr>\n      <th>1</th>\n      <td>200</td>\n    </tr>\n    <tr>\n      <th>2</th>\n      <td>119</td>\n    </tr>\n    <tr>\n      <th>3</th>\n      <td>181</td>\n    </tr>\n  </tbody>\n</table>\n</div>"
     },
     "execution_count": 53,
     "metadata": {},
     "output_type": "execute_result"
    }
   ],
   "source": [
    "group_2=df[['pclass','survived','sex']].groupby(by='pclass')\n",
    "group_2.sum()"
   ]
  },
  {
   "cell_type": "code",
   "execution_count": 54,
   "outputs": [
    {
     "data": {
      "text/plain": "survived\n0      0\n1    500\nName: survived, dtype: int64"
     },
     "execution_count": 54,
     "metadata": {},
     "output_type": "execute_result"
    }
   ],
   "source": [
    "df_survived = df['survived'].groupby(by=df['survived']).sum()\n",
    "df_survived"
   ],
   "metadata": {
    "collapsed": false,
    "pycharm": {
     "name": "#%%\n"
    }
   }
  },
  {
   "cell_type": "code",
   "execution_count": 63,
   "outputs": [],
   "source": [
    "df_index = df.set_index(['sex','name'])"
   ],
   "metadata": {
    "collapsed": false,
    "pycharm": {
     "name": "#%%\n"
    }
   }
  },
  {
   "cell_type": "code",
   "source": [
    "df_survived_1 = df_index[['survived']].groupby(level='sex',axis=0).sum()\n",
    "df_survived_1"
   ],
   "metadata": {
    "collapsed": false,
    "pycharm": {
     "name": "#%%\n"
    }
   },
   "execution_count": 67,
   "outputs": [
    {
     "data": {
      "text/plain": "        survived\nsex             \nfemale       339\nmale         161",
      "text/html": "<div>\n<style scoped>\n    .dataframe tbody tr th:only-of-type {\n        vertical-align: middle;\n    }\n\n    .dataframe tbody tr th {\n        vertical-align: top;\n    }\n\n    .dataframe thead th {\n        text-align: right;\n    }\n</style>\n<table border=\"1\" class=\"dataframe\">\n  <thead>\n    <tr style=\"text-align: right;\">\n      <th></th>\n      <th>survived</th>\n    </tr>\n    <tr>\n      <th>sex</th>\n      <th></th>\n    </tr>\n  </thead>\n  <tbody>\n    <tr>\n      <th>female</th>\n      <td>339</td>\n    </tr>\n    <tr>\n      <th>male</th>\n      <td>161</td>\n    </tr>\n  </tbody>\n</table>\n</div>"
     },
     "execution_count": 67,
     "metadata": {},
     "output_type": "execute_result"
    }
   ]
  },
  {
   "cell_type": "code",
   "execution_count": 68,
   "outputs": [
    {
     "data": {
      "text/plain": "S    914\nC    270\nQ    123\nName: embarked, dtype: int64"
     },
     "execution_count": 68,
     "metadata": {},
     "output_type": "execute_result"
    }
   ],
   "source": [
    "df['embarked'].value_counts()"
   ],
   "metadata": {
    "collapsed": false,
    "pycharm": {
     "name": "#%%\n"
    }
   }
  },
  {
   "cell_type": "code",
   "execution_count": 69,
   "outputs": [
    {
     "data": {
      "text/plain": "age       80.0\npclass     3.0\ndtype: float64"
     },
     "execution_count": 69,
     "metadata": {},
     "output_type": "execute_result"
    }
   ],
   "source": [
    "df[['age','pclass']].max()"
   ],
   "metadata": {
    "collapsed": false,
    "pycharm": {
     "name": "#%%\n"
    }
   }
  },
  {
   "cell_type": "code",
   "execution_count": 70,
   "outputs": [
    {
     "data": {
      "text/plain": "count             295\nunique            186\ntop       C23 C25 C27\nfreq                6\nName: cabin, dtype: object"
     },
     "execution_count": 70,
     "metadata": {},
     "output_type": "execute_result"
    }
   ],
   "source": [
    "df['cabin'].describe()"
   ],
   "metadata": {
    "collapsed": false,
    "pycharm": {
     "name": "#%%\n"
    }
   }
  }
 ],
 "metadata": {
  "kernelspec": {
   "display_name": "Python 3",
   "language": "python",
   "name": "python3"
  },
  "language_info": {
   "codemirror_mode": {
    "name": "ipython",
    "version": 3
   },
   "file_extension": ".py",
   "mimetype": "text/x-python",
   "name": "python",
   "nbconvert_exporter": "python",
   "pygments_lexer": "ipython3",
   "version": "3.7.4"
  }
 },
 "nbformat": 4,
 "nbformat_minor": 2
}